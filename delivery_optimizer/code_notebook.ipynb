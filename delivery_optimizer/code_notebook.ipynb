{
 "cells": [
  {
   "cell_type": "markdown",
   "id": "b5bb5074",
   "metadata": {},
   "source": [
    "Submitted by: Robin Manchanda\n",
    "\n",
    "Brampton, ON, L7A 2E2\n",
    "\n",
    "robinm.ecil@gmail.com | 437-855-2344 | https://github.com/robmanch/Data-Science | https://www.linkedin.com/in/robinmanchanda"
   ]
  },
  {
   "cell_type": "markdown",
   "id": "f7ff4b90",
   "metadata": {},
   "source": [
    "# Table of Content:\n",
    "1. Import Libraries\n",
    "2. Read Data\n",
    "3. Feature Engineering\n",
    "4. Exploratory Data Analysis\n",
    "5. Feature Selection\n",
    "6. Building Model\n",
    "    - Ridge\n",
    "    - Random Forest\n",
    "    - Neural Network\n",
    "7. Result\n",
    "8. Prediction\n",
    "9. Deployement"
   ]
  },
  {
   "cell_type": "markdown",
   "id": "ce1e3d22",
   "metadata": {},
   "source": [
    "## 1. Import Libraries"
   ]
  },
  {
   "cell_type": "code",
   "execution_count": 47,
   "id": "f310a15e",
   "metadata": {},
   "outputs": [],
   "source": [
    "import pandas as pd\n",
    "import numpy as np\n",
    "import matplotlib.pyplot as plt\n",
    "import seaborn as sns\n",
    "from geopy.distance import geodesic\n",
    "import plotly_express as px\n",
    "from sklearn.cluster import KMeans\n",
    "from sklearn.model_selection import train_test_split, GridSearchCV\n",
    "from sklearn.linear_model import LinearRegression, Ridge\n",
    "from sklearn.metrics import mean_squared_error\n",
    "from sklearn.preprocessing import StandardScaler, OneHotEncoder, LabelEncoder, MinMaxScaler, RobustScaler\n",
    "from sklearn.pipeline import Pipeline\n",
    "from sklearn.compose import make_column_transformer\n",
    "from sklearn.ensemble import RandomForestRegressor\n",
    "from yellowbrick.cluster import KElbowVisualizer"
   ]
  },
  {
   "cell_type": "code",
   "execution_count": 2,
   "id": "28e1063a",
   "metadata": {},
   "outputs": [],
   "source": [
    "from tensorflow.keras.layers import Dense, Input\n",
    "from tensorflow.keras.models import Sequential\n",
    "from tensorflow.keras.losses import MeanSquaredError\n",
    "from keras.callbacks import LearningRateScheduler\n",
    "import math\n",
    "import pickle"
   ]
  },
  {
   "cell_type": "markdown",
   "id": "01d803da",
   "metadata": {},
   "source": [
    "## 2. Read Data"
   ]
  },
  {
   "cell_type": "code",
   "execution_count": 3,
   "id": "a00dd8e7",
   "metadata": {},
   "outputs": [
    {
     "data": {
      "text/html": [
       "<div>\n",
       "<style scoped>\n",
       "    .dataframe tbody tr th:only-of-type {\n",
       "        vertical-align: middle;\n",
       "    }\n",
       "\n",
       "    .dataframe tbody tr th {\n",
       "        vertical-align: top;\n",
       "    }\n",
       "\n",
       "    .dataframe thead th {\n",
       "        text-align: right;\n",
       "    }\n",
       "</style>\n",
       "<table border=\"1\" class=\"dataframe\">\n",
       "  <thead>\n",
       "    <tr style=\"text-align: right;\">\n",
       "      <th></th>\n",
       "      <th>Order-Date</th>\n",
       "      <th>Delivery-Date</th>\n",
       "      <th>Promised-Date</th>\n",
       "      <th>Courier</th>\n",
       "      <th>Size of the box height</th>\n",
       "      <th>Size of the box width</th>\n",
       "      <th>Size of the box length</th>\n",
       "      <th>Size of the box weight</th>\n",
       "      <th>Weather</th>\n",
       "      <th>Store address</th>\n",
       "      <th>Customer address</th>\n",
       "    </tr>\n",
       "  </thead>\n",
       "  <tbody>\n",
       "    <tr>\n",
       "      <th>0</th>\n",
       "      <td>2021-01-24</td>\n",
       "      <td>2021-01-27</td>\n",
       "      <td>2021-01-26</td>\n",
       "      <td>PS</td>\n",
       "      <td>29.632656</td>\n",
       "      <td>34.722553</td>\n",
       "      <td>17.523058</td>\n",
       "      <td>3.807421</td>\n",
       "      <td>Good</td>\n",
       "      <td>'-123.048/49.1534'</td>\n",
       "      <td>'-126.07325247944962/51.29548801984406'</td>\n",
       "    </tr>\n",
       "    <tr>\n",
       "      <th>1</th>\n",
       "      <td>2021-04-09</td>\n",
       "      <td>2021-04-13</td>\n",
       "      <td>2021-04-13</td>\n",
       "      <td>FD</td>\n",
       "      <td>29.632656</td>\n",
       "      <td>34.722553</td>\n",
       "      <td>17.523058</td>\n",
       "      <td>1.902088</td>\n",
       "      <td>Good</td>\n",
       "      <td>'-123.048/49.1534'</td>\n",
       "      <td>'-126.07255765553835/51.29486187466757'</td>\n",
       "    </tr>\n",
       "    <tr>\n",
       "      <th>2</th>\n",
       "      <td>2021-09-27</td>\n",
       "      <td>2021-10-02</td>\n",
       "      <td>2021-10-02</td>\n",
       "      <td>PS</td>\n",
       "      <td>29.632656</td>\n",
       "      <td>34.722553</td>\n",
       "      <td>17.523058</td>\n",
       "      <td>2.152103</td>\n",
       "      <td>Good</td>\n",
       "      <td>'-123.048/49.1534'</td>\n",
       "      <td>'-126.07443435490822/51.29566033167437'</td>\n",
       "    </tr>\n",
       "    <tr>\n",
       "      <th>3</th>\n",
       "      <td>2020-11-29</td>\n",
       "      <td>2020-12-04</td>\n",
       "      <td>2020-12-03</td>\n",
       "      <td>PS</td>\n",
       "      <td>29.632656</td>\n",
       "      <td>34.722553</td>\n",
       "      <td>17.523058</td>\n",
       "      <td>3.802455</td>\n",
       "      <td>Good</td>\n",
       "      <td>'-123.048/49.1534'</td>\n",
       "      <td>'-126.07310897909636/51.295612714656855'</td>\n",
       "    </tr>\n",
       "    <tr>\n",
       "      <th>4</th>\n",
       "      <td>2021-09-06</td>\n",
       "      <td>2021-09-12</td>\n",
       "      <td>2021-09-11</td>\n",
       "      <td>FD</td>\n",
       "      <td>29.632656</td>\n",
       "      <td>34.722553</td>\n",
       "      <td>17.523058</td>\n",
       "      <td>5.510081</td>\n",
       "      <td>Good</td>\n",
       "      <td>'-123.048/49.1534'</td>\n",
       "      <td>'-126.07309709870711/51.29454616285458'</td>\n",
       "    </tr>\n",
       "  </tbody>\n",
       "</table>\n",
       "</div>"
      ],
      "text/plain": [
       "   Order-Date Delivery-Date Promised-Date Courier  Size of the box height  \\\n",
       "0  2021-01-24    2021-01-27    2021-01-26      PS               29.632656   \n",
       "1  2021-04-09    2021-04-13    2021-04-13      FD               29.632656   \n",
       "2  2021-09-27    2021-10-02    2021-10-02      PS               29.632656   \n",
       "3  2020-11-29    2020-12-04    2020-12-03      PS               29.632656   \n",
       "4  2021-09-06    2021-09-12    2021-09-11      FD               29.632656   \n",
       "\n",
       "   Size of the box width  Size of the box length  Size of the box weight  \\\n",
       "0              34.722553               17.523058                3.807421   \n",
       "1              34.722553               17.523058                1.902088   \n",
       "2              34.722553               17.523058                2.152103   \n",
       "3              34.722553               17.523058                3.802455   \n",
       "4              34.722553               17.523058                5.510081   \n",
       "\n",
       "  Weather       Store address                          Customer address  \n",
       "0    Good  '-123.048/49.1534'   '-126.07325247944962/51.29548801984406'  \n",
       "1    Good  '-123.048/49.1534'   '-126.07255765553835/51.29486187466757'  \n",
       "2    Good  '-123.048/49.1534'   '-126.07443435490822/51.29566033167437'  \n",
       "3    Good  '-123.048/49.1534'  '-126.07310897909636/51.295612714656855'  \n",
       "4    Good  '-123.048/49.1534'   '-126.07309709870711/51.29454616285458'  "
      ]
     },
     "execution_count": 3,
     "metadata": {},
     "output_type": "execute_result"
    }
   ],
   "source": [
    "df = pd.read_csv('data_train.csv')# read csv file\n",
    "df.head()"
   ]
  },
  {
   "cell_type": "markdown",
   "id": "425aff62",
   "metadata": {},
   "source": [
    "### 2.1 Check Null Values"
   ]
  },
  {
   "cell_type": "code",
   "execution_count": 4,
   "id": "edf9ec14",
   "metadata": {
    "scrolled": false
   },
   "outputs": [
    {
     "data": {
      "text/plain": [
       "<Figure size 432x432 with 0 Axes>"
      ]
     },
     "execution_count": 4,
     "metadata": {},
     "output_type": "execute_result"
    },
    {
     "data": {
      "image/png": "[encoded data removed]",
      "text/plain": [
       "<Figure size 576x396 with 2 Axes>"
      ]
     },
     "metadata": {},
     "output_type": "display_data"
    },
    {
     "data": {
      "text/plain": [
       "<Figure size 432x432 with 0 Axes>"
      ]
     },
     "metadata": {},
     "output_type": "display_data"
    }
   ],
   "source": [
    "sns.heatmap(df.isnull())# check null values\n",
    "plt.figure(figsize=(6,6))"
   ]
  },
  {
   "cell_type": "markdown",
   "id": "7be09604",
   "metadata": {},
   "source": [
    "There are no null values in the dataset."
   ]
  },
  {
   "cell_type": "markdown",
   "id": "abd8ba53",
   "metadata": {},
   "source": [
    "## 3. Feature Engineering"
   ]
  },
  {
   "cell_type": "markdown",
   "id": "37f0fb55",
   "metadata": {},
   "source": [
    "The dataset has certain features such as customer address, store address, order date, promised date, etc. that cannot be used directly as an input to the machine learning model. So these features are engineered and some new features have been created and these are explained below:\n",
    "1. *Distance*: It represents the distance between customer and store address. It has been seen usually that the number of days required to ship a product increases with the distance. So, it could be an important feature to be considered in delivery optimization problems.\n",
    "\n",
    "2. All the dates have been changed to pandas DateTime object\n",
    "\n",
    "3. *Shipping_days* (Target Label): It is the number required to ship the product to the customer.\n",
    "\n",
    "4. *Order_month*: To find the effect of the month on the shipping days."
   ]
  },
  {
   "cell_type": "code",
   "execution_count": 5,
   "id": "cbc6261c",
   "metadata": {},
   "outputs": [],
   "source": [
    "def lat_long_format(x):\n",
    "    \"\"\"This function converts given 'longitude/latitude' string to 'latitude, longitude' string\"\"\"    \n",
    "    tmp_list = x[1:-1].split('/') # split the string based on '/'\n",
    "    long = tmp_list[0] # longitude\n",
    "    lat = tmp_list[1] # latitude\n",
    "    x = lat + ',' + long # 'latitude, langitude'\n",
    "    return x"
   ]
  },
  {
   "cell_type": "code",
   "execution_count": 6,
   "id": "03596904",
   "metadata": {},
   "outputs": [],
   "source": [
    "def distance(coordinate1, coordinate2):\n",
    "    \"\"\"This function calculates distance between two cordinates\n",
    "    Input: Tuple of cordinates.\n",
    "    Output: Distance in kilometers\"\"\"\n",
    "#     print(coordinate1, coordinate2)\n",
    "    distannce_in_km = geodesic(coordinate1, coordinate2).km #finding distance\n",
    "    return distannce_in_km"
   ]
  },
  {
   "cell_type": "code",
   "execution_count": 7,
   "id": "46154197",
   "metadata": {},
   "outputs": [],
   "source": [
    "def pandas_datetime(df, column):\n",
    "    \"\"\"This function converts str to pandas datetime object\"\"\"\n",
    "    return pd.to_datetime(df[column])"
   ]
  },
  {
   "cell_type": "code",
   "execution_count": 8,
   "id": "ef009b05",
   "metadata": {},
   "outputs": [],
   "source": [
    "def calculate_days(df, column1, column2):\n",
    "    \"\"\"This function calculates days between df[column1] and df[column2]\"\"\"\n",
    "    days = (df[column1] - df[column2]).astype('str').apply(lambda d: int(d.split(' ')[0]))\n",
    "    return days"
   ]
  },
  {
   "cell_type": "code",
   "execution_count": 9,
   "id": "d8823b0c",
   "metadata": {},
   "outputs": [],
   "source": [
    "def extract_lat_long(df, column, type_):\n",
    "    \"\"\"This function extract the latitude and longitude\n",
    "    Input: Dataframe, Atribute\n",
    "    Output: Latitude/Longitude\"\"\"\n",
    "    if type_ == 'latitude':\n",
    "        x = df[column].apply(lambda x: x.split(',')[0]).astype('float')# extract latitude\n",
    "    else:\n",
    "        x = df[column].apply(lambda x: x.split(',')[1]).astype('float')# extract longitude\n",
    "        \n",
    "    return x"
   ]
  },
  {
   "cell_type": "code",
   "execution_count": 10,
   "id": "227168f5",
   "metadata": {},
   "outputs": [],
   "source": [
    "def data_preprocess(df):\n",
    "    \n",
    "    df[\"Delivery-Date\"] = pandas_datetime(df, \"Delivery-Date\") \n",
    "    df[\"Order-Date\"] = pandas_datetime(df, \"Order-Date\") \n",
    "    df['shipping_days'] = calculate_days(df, \"Delivery-Date\", \"Order-Date\") # shipping days\n",
    "    df['order_month'] = df['Order-Date'].dt.month_name().astype('str') # Month in which order was placed\n",
    "    df['Store address'] = df['Store address'].apply(lat_long_format) # apply lat_long function to 'Store address' pandas series\n",
    "    df['Customer address'] = df['Customer address'].apply(lat_long_format)\n",
    "    \n",
    "    for i in range(df.shape[0]):\n",
    "        \"\"\"Looping through the each row of the dataframe\"\"\"\n",
    "        coordinate1 = df.loc[i,'Store address']\n",
    "        coordinate2 = df.loc[i, 'Customer address']\n",
    "        df.loc[i,'distance'] = distance(coordinate1, coordinate2)\n",
    "        \n",
    "    df['cust_lat'] = extract_lat_long(df, 'Customer address', 'latitude') # customer latitude\n",
    "    df['cust_long'] = extract_lat_long(df, 'Customer address', 'longitude') # customer longitude\n",
    "    df['store_lat'] = extract_lat_long(df, 'Store address', 'latitude') # Store latitude\n",
    "    df['store_long'] = extract_lat_long(df, 'Store address', 'longitude') # Store longitude\n",
    "    \n",
    "    return df"
   ]
  },
  {
   "cell_type": "code",
   "execution_count": 11,
   "id": "74150f0c",
   "metadata": {},
   "outputs": [],
   "source": [
    "df = data_preprocess(df)"
   ]
  },
  {
   "cell_type": "code",
   "execution_count": 12,
   "id": "7b9f5a52",
   "metadata": {},
   "outputs": [
    {
     "data": {
      "text/html": [
       "<div>\n",
       "<style scoped>\n",
       "    .dataframe tbody tr th:only-of-type {\n",
       "        vertical-align: middle;\n",
       "    }\n",
       "\n",
       "    .dataframe tbody tr th {\n",
       "        vertical-align: top;\n",
       "    }\n",
       "\n",
       "    .dataframe thead th {\n",
       "        text-align: right;\n",
       "    }\n",
       "</style>\n",
       "<table border=\"1\" class=\"dataframe\">\n",
       "  <thead>\n",
       "    <tr style=\"text-align: right;\">\n",
       "      <th></th>\n",
       "      <th>Order-Date</th>\n",
       "      <th>Delivery-Date</th>\n",
       "      <th>Promised-Date</th>\n",
       "      <th>Courier</th>\n",
       "      <th>Size of the box height</th>\n",
       "      <th>Size of the box width</th>\n",
       "      <th>Size of the box length</th>\n",
       "      <th>Size of the box weight</th>\n",
       "      <th>Weather</th>\n",
       "      <th>Store address</th>\n",
       "      <th>Customer address</th>\n",
       "      <th>shipping_days</th>\n",
       "      <th>order_month</th>\n",
       "      <th>distance</th>\n",
       "      <th>cust_lat</th>\n",
       "      <th>cust_long</th>\n",
       "      <th>store_lat</th>\n",
       "      <th>store_long</th>\n",
       "    </tr>\n",
       "  </thead>\n",
       "  <tbody>\n",
       "    <tr>\n",
       "      <th>0</th>\n",
       "      <td>2021-01-24</td>\n",
       "      <td>2021-01-27</td>\n",
       "      <td>2021-01-26</td>\n",
       "      <td>PS</td>\n",
       "      <td>29.632656</td>\n",
       "      <td>34.722553</td>\n",
       "      <td>17.523058</td>\n",
       "      <td>3.807421</td>\n",
       "      <td>Good</td>\n",
       "      <td>49.1534,-123.048</td>\n",
       "      <td>51.29548801984406,-126.07325247944962</td>\n",
       "      <td>3</td>\n",
       "      <td>January</td>\n",
       "      <td>321.473027</td>\n",
       "      <td>51.295488</td>\n",
       "      <td>-126.073252</td>\n",
       "      <td>49.1534</td>\n",
       "      <td>-123.048</td>\n",
       "    </tr>\n",
       "    <tr>\n",
       "      <th>1</th>\n",
       "      <td>2021-04-09</td>\n",
       "      <td>2021-04-13</td>\n",
       "      <td>2021-04-13</td>\n",
       "      <td>FD</td>\n",
       "      <td>29.632656</td>\n",
       "      <td>34.722553</td>\n",
       "      <td>17.523058</td>\n",
       "      <td>1.902088</td>\n",
       "      <td>Good</td>\n",
       "      <td>49.1534,-123.048</td>\n",
       "      <td>51.29486187466757,-126.07255765553835</td>\n",
       "      <td>4</td>\n",
       "      <td>April</td>\n",
       "      <td>321.389102</td>\n",
       "      <td>51.294862</td>\n",
       "      <td>-126.072558</td>\n",
       "      <td>49.1534</td>\n",
       "      <td>-123.048</td>\n",
       "    </tr>\n",
       "    <tr>\n",
       "      <th>2</th>\n",
       "      <td>2021-09-27</td>\n",
       "      <td>2021-10-02</td>\n",
       "      <td>2021-10-02</td>\n",
       "      <td>PS</td>\n",
       "      <td>29.632656</td>\n",
       "      <td>34.722553</td>\n",
       "      <td>17.523058</td>\n",
       "      <td>2.152103</td>\n",
       "      <td>Good</td>\n",
       "      <td>49.1534,-123.048</td>\n",
       "      <td>51.29566033167437,-126.07443435490822</td>\n",
       "      <td>5</td>\n",
       "      <td>September</td>\n",
       "      <td>321.543559</td>\n",
       "      <td>51.295660</td>\n",
       "      <td>-126.074434</td>\n",
       "      <td>49.1534</td>\n",
       "      <td>-123.048</td>\n",
       "    </tr>\n",
       "    <tr>\n",
       "      <th>3</th>\n",
       "      <td>2020-11-29</td>\n",
       "      <td>2020-12-04</td>\n",
       "      <td>2020-12-03</td>\n",
       "      <td>PS</td>\n",
       "      <td>29.632656</td>\n",
       "      <td>34.722553</td>\n",
       "      <td>17.523058</td>\n",
       "      <td>3.802455</td>\n",
       "      <td>Good</td>\n",
       "      <td>49.1534,-123.048</td>\n",
       "      <td>51.295612714656855,-126.07310897909636</td>\n",
       "      <td>5</td>\n",
       "      <td>November</td>\n",
       "      <td>321.476244</td>\n",
       "      <td>51.295613</td>\n",
       "      <td>-126.073109</td>\n",
       "      <td>49.1534</td>\n",
       "      <td>-123.048</td>\n",
       "    </tr>\n",
       "    <tr>\n",
       "      <th>4</th>\n",
       "      <td>2021-09-06</td>\n",
       "      <td>2021-09-12</td>\n",
       "      <td>2021-09-11</td>\n",
       "      <td>FD</td>\n",
       "      <td>29.632656</td>\n",
       "      <td>34.722553</td>\n",
       "      <td>17.523058</td>\n",
       "      <td>5.510081</td>\n",
       "      <td>Good</td>\n",
       "      <td>49.1534,-123.048</td>\n",
       "      <td>51.29454616285458,-126.07309709870711</td>\n",
       "      <td>6</td>\n",
       "      <td>September</td>\n",
       "      <td>321.389395</td>\n",
       "      <td>51.294546</td>\n",
       "      <td>-126.073097</td>\n",
       "      <td>49.1534</td>\n",
       "      <td>-123.048</td>\n",
       "    </tr>\n",
       "  </tbody>\n",
       "</table>\n",
       "</div>"
      ],
      "text/plain": [
       "  Order-Date Delivery-Date Promised-Date Courier  Size of the box height  \\\n",
       "0 2021-01-24    2021-01-27    2021-01-26      PS               29.632656   \n",
       "1 2021-04-09    2021-04-13    2021-04-13      FD               29.632656   \n",
       "2 2021-09-27    2021-10-02    2021-10-02      PS               29.632656   \n",
       "3 2020-11-29    2020-12-04    2020-12-03      PS               29.632656   \n",
       "4 2021-09-06    2021-09-12    2021-09-11      FD               29.632656   \n",
       "\n",
       "   Size of the box width  Size of the box length  Size of the box weight  \\\n",
       "0              34.722553               17.523058                3.807421   \n",
       "1              34.722553               17.523058                1.902088   \n",
       "2              34.722553               17.523058                2.152103   \n",
       "3              34.722553               17.523058                3.802455   \n",
       "4              34.722553               17.523058                5.510081   \n",
       "\n",
       "  Weather     Store address                        Customer address  \\\n",
       "0    Good  49.1534,-123.048   51.29548801984406,-126.07325247944962   \n",
       "1    Good  49.1534,-123.048   51.29486187466757,-126.07255765553835   \n",
       "2    Good  49.1534,-123.048   51.29566033167437,-126.07443435490822   \n",
       "3    Good  49.1534,-123.048  51.295612714656855,-126.07310897909636   \n",
       "4    Good  49.1534,-123.048   51.29454616285458,-126.07309709870711   \n",
       "\n",
       "   shipping_days order_month    distance   cust_lat   cust_long  store_lat  \\\n",
       "0              3     January  321.473027  51.295488 -126.073252    49.1534   \n",
       "1              4       April  321.389102  51.294862 -126.072558    49.1534   \n",
       "2              5   September  321.543559  51.295660 -126.074434    49.1534   \n",
       "3              5    November  321.476244  51.295613 -126.073109    49.1534   \n",
       "4              6   September  321.389395  51.294546 -126.073097    49.1534   \n",
       "\n",
       "   store_long  \n",
       "0    -123.048  \n",
       "1    -123.048  \n",
       "2    -123.048  \n",
       "3    -123.048  \n",
       "4    -123.048  "
      ]
     },
     "execution_count": 12,
     "metadata": {},
     "output_type": "execute_result"
    }
   ],
   "source": [
    "df.head()"
   ]
  },
  {
   "cell_type": "markdown",
   "id": "9ff68196",
   "metadata": {},
   "source": [
    "###  3.1 K-mean clusting to divide the geometric location into clusters"
   ]
  },
  {
   "cell_type": "markdown",
   "id": "f63d211c",
   "metadata": {},
   "source": [
    "The k-mean clustering has been used to divide the geometric location to the cluster. In this way, a large number of locations have been reduced to a few clusters."
   ]
  },
  {
   "cell_type": "code",
   "execution_count": 13,
   "id": "63d0eb72",
   "metadata": {},
   "outputs": [],
   "source": [
    "def elbow_visualizer(data):\n",
    "    \"\"\"This function helps to select k value by using elbow method\"\"\"\n",
    "    model = KMeans() # Instanciate the K means\n",
    "    # k defines the range of number of clusters.\n",
    "    visualizer = KElbowVisualizer(model, k=(2,30), timings= True)\n",
    "    visualizer.fit(data) # Fit data to visualizer\n",
    "    visualizer.show()        # Finalize and render figure"
   ]
  },
  {
   "cell_type": "code",
   "execution_count": 14,
   "id": "65a650c2",
   "metadata": {},
   "outputs": [],
   "source": [
    "def create_cluster(data, n_cluster):\n",
    "    \"\"\"This function apply kmeans to the data to create clusters\"\"\"\n",
    "    kmeans = KMeans(\n",
    "        init=\"random\",\n",
    "        n_clusters=n_cluster,\n",
    "        n_init=10,\n",
    "        max_iter=300,\n",
    "        random_state=42\n",
    "    )\n",
    "    kmeans.fit(data) # Fit data to kmeans\n",
    "    labels = kmeans.labels_  \n",
    "    return kmeans, labels"
   ]
  },
  {
   "cell_type": "code",
   "execution_count": 15,
   "id": "d8ad25d9",
   "metadata": {
    "scrolled": false
   },
   "outputs": [
    {
     "data": {
      "image/png": "[encoded data removed]",
      "text/plain": [
       "<Figure size 576x396 with 2 Axes>"
      ]
     },
     "metadata": {},
     "output_type": "display_data"
    }
   ],
   "source": [
    "cust_loc = df[['cust_lat', 'cust_long']]\n",
    "elbow_visualizer(cust_loc)"
   ]
  },
  {
   "cell_type": "markdown",
   "id": "fe814f5f",
   "metadata": {},
   "source": [
    "Elbow method is used to find the right value of k (number of cluster). Here, the scoring parameter metric is set to distortion, which computes the sum of squared distances from each point to its assigned center."
   ]
  },
  {
   "cell_type": "code",
   "execution_count": 16,
   "id": "ce934c95",
   "metadata": {},
   "outputs": [],
   "source": [
    "# K mean for customer address\n",
    "kmeans_cust, labels = create_cluster(cust_loc, 8)\n",
    "df['cust_cluster'] = labels"
   ]
  },
  {
   "cell_type": "code",
   "execution_count": 17,
   "id": "aa7afc23",
   "metadata": {},
   "outputs": [
    {
     "data": {
      "text/plain": [
       "<AxesSubplot:xlabel='cust_lat', ylabel='cust_long'>"
      ]
     },
     "execution_count": 17,
     "metadata": {},
     "output_type": "execute_result"
    },
    {
     "data": {
      "image/png": "[encoded data removed]",
      "text/plain": [
       "<Figure size 576x396 with 1 Axes>"
      ]
     },
     "metadata": {},
     "output_type": "display_data"
    }
   ],
   "source": [
    "sns.scatterplot(x = 'cust_lat', y = 'cust_long', data = df, hue = 'cust_cluster', palette= \"tab10\")"
   ]
  },
  {
   "cell_type": "code",
   "execution_count": 18,
   "id": "24213bb1",
   "metadata": {},
   "outputs": [
    {
     "data": {
      "image/png": "[encoded data removed]",
      "text/plain": [
       "<Figure size 576x396 with 2 Axes>"
      ]
     },
     "metadata": {},
     "output_type": "display_data"
    }
   ],
   "source": [
    "#K mean for store address\n",
    "store_loc = df[['store_lat', 'store_long']] # dataframe with store location\n",
    "elbow_visualizer(store_loc)"
   ]
  },
  {
   "cell_type": "code",
   "execution_count": 19,
   "id": "ed13d0e8",
   "metadata": {},
   "outputs": [],
   "source": [
    "kmeans_store, labels = create_cluster(store_loc, 6)\n",
    "df['store_cluster'] = labels"
   ]
  },
  {
   "cell_type": "code",
   "execution_count": 20,
   "id": "73824a99",
   "metadata": {},
   "outputs": [
    {
     "data": {
      "text/plain": [
       "<AxesSubplot:xlabel='store_lat', ylabel='store_long'>"
      ]
     },
     "execution_count": 20,
     "metadata": {},
     "output_type": "execute_result"
    },
    {
     "data": {
      "image/png": "[encoded data removed]",
      "text/plain": [
       "<Figure size 576x396 with 1 Axes>"
      ]
     },
     "metadata": {},
     "output_type": "display_data"
    }
   ],
   "source": [
    "sns.scatterplot(x = 'store_lat', y = 'store_long', data = df, hue = 'store_cluster', palette= \"tab10\")"
   ]
  },
  {
   "cell_type": "code",
   "execution_count": 21,
   "id": "d22e3ab9",
   "metadata": {},
   "outputs": [
    {
     "data": {
      "text/html": [
       "<div>\n",
       "<style scoped>\n",
       "    .dataframe tbody tr th:only-of-type {\n",
       "        vertical-align: middle;\n",
       "    }\n",
       "\n",
       "    .dataframe tbody tr th {\n",
       "        vertical-align: top;\n",
       "    }\n",
       "\n",
       "    .dataframe thead th {\n",
       "        text-align: right;\n",
       "    }\n",
       "</style>\n",
       "<table border=\"1\" class=\"dataframe\">\n",
       "  <thead>\n",
       "    <tr style=\"text-align: right;\">\n",
       "      <th></th>\n",
       "      <th>Order-Date</th>\n",
       "      <th>Delivery-Date</th>\n",
       "      <th>Promised-Date</th>\n",
       "      <th>Courier</th>\n",
       "      <th>Size of the box height</th>\n",
       "      <th>Size of the box width</th>\n",
       "      <th>Size of the box length</th>\n",
       "      <th>Size of the box weight</th>\n",
       "      <th>Weather</th>\n",
       "      <th>Store address</th>\n",
       "      <th>Customer address</th>\n",
       "      <th>shipping_days</th>\n",
       "      <th>order_month</th>\n",
       "      <th>distance</th>\n",
       "      <th>cust_lat</th>\n",
       "      <th>cust_long</th>\n",
       "      <th>store_lat</th>\n",
       "      <th>store_long</th>\n",
       "      <th>cust_cluster</th>\n",
       "      <th>store_cluster</th>\n",
       "    </tr>\n",
       "  </thead>\n",
       "  <tbody>\n",
       "    <tr>\n",
       "      <th>0</th>\n",
       "      <td>2021-01-24</td>\n",
       "      <td>2021-01-27</td>\n",
       "      <td>2021-01-26</td>\n",
       "      <td>PS</td>\n",
       "      <td>29.632656</td>\n",
       "      <td>34.722553</td>\n",
       "      <td>17.523058</td>\n",
       "      <td>3.807421</td>\n",
       "      <td>Good</td>\n",
       "      <td>49.1534,-123.048</td>\n",
       "      <td>51.29548801984406,-126.07325247944962</td>\n",
       "      <td>3</td>\n",
       "      <td>January</td>\n",
       "      <td>321.473027</td>\n",
       "      <td>51.295488</td>\n",
       "      <td>-126.073252</td>\n",
       "      <td>49.1534</td>\n",
       "      <td>-123.048</td>\n",
       "      <td>4</td>\n",
       "      <td>2</td>\n",
       "    </tr>\n",
       "    <tr>\n",
       "      <th>1</th>\n",
       "      <td>2021-04-09</td>\n",
       "      <td>2021-04-13</td>\n",
       "      <td>2021-04-13</td>\n",
       "      <td>FD</td>\n",
       "      <td>29.632656</td>\n",
       "      <td>34.722553</td>\n",
       "      <td>17.523058</td>\n",
       "      <td>1.902088</td>\n",
       "      <td>Good</td>\n",
       "      <td>49.1534,-123.048</td>\n",
       "      <td>51.29486187466757,-126.07255765553835</td>\n",
       "      <td>4</td>\n",
       "      <td>April</td>\n",
       "      <td>321.389102</td>\n",
       "      <td>51.294862</td>\n",
       "      <td>-126.072558</td>\n",
       "      <td>49.1534</td>\n",
       "      <td>-123.048</td>\n",
       "      <td>4</td>\n",
       "      <td>2</td>\n",
       "    </tr>\n",
       "    <tr>\n",
       "      <th>2</th>\n",
       "      <td>2021-09-27</td>\n",
       "      <td>2021-10-02</td>\n",
       "      <td>2021-10-02</td>\n",
       "      <td>PS</td>\n",
       "      <td>29.632656</td>\n",
       "      <td>34.722553</td>\n",
       "      <td>17.523058</td>\n",
       "      <td>2.152103</td>\n",
       "      <td>Good</td>\n",
       "      <td>49.1534,-123.048</td>\n",
       "      <td>51.29566033167437,-126.07443435490822</td>\n",
       "      <td>5</td>\n",
       "      <td>September</td>\n",
       "      <td>321.543559</td>\n",
       "      <td>51.295660</td>\n",
       "      <td>-126.074434</td>\n",
       "      <td>49.1534</td>\n",
       "      <td>-123.048</td>\n",
       "      <td>4</td>\n",
       "      <td>2</td>\n",
       "    </tr>\n",
       "    <tr>\n",
       "      <th>3</th>\n",
       "      <td>2020-11-29</td>\n",
       "      <td>2020-12-04</td>\n",
       "      <td>2020-12-03</td>\n",
       "      <td>PS</td>\n",
       "      <td>29.632656</td>\n",
       "      <td>34.722553</td>\n",
       "      <td>17.523058</td>\n",
       "      <td>3.802455</td>\n",
       "      <td>Good</td>\n",
       "      <td>49.1534,-123.048</td>\n",
       "      <td>51.295612714656855,-126.07310897909636</td>\n",
       "      <td>5</td>\n",
       "      <td>November</td>\n",
       "      <td>321.476244</td>\n",
       "      <td>51.295613</td>\n",
       "      <td>-126.073109</td>\n",
       "      <td>49.1534</td>\n",
       "      <td>-123.048</td>\n",
       "      <td>4</td>\n",
       "      <td>2</td>\n",
       "    </tr>\n",
       "    <tr>\n",
       "      <th>4</th>\n",
       "      <td>2021-09-06</td>\n",
       "      <td>2021-09-12</td>\n",
       "      <td>2021-09-11</td>\n",
       "      <td>FD</td>\n",
       "      <td>29.632656</td>\n",
       "      <td>34.722553</td>\n",
       "      <td>17.523058</td>\n",
       "      <td>5.510081</td>\n",
       "      <td>Good</td>\n",
       "      <td>49.1534,-123.048</td>\n",
       "      <td>51.29454616285458,-126.07309709870711</td>\n",
       "      <td>6</td>\n",
       "      <td>September</td>\n",
       "      <td>321.389395</td>\n",
       "      <td>51.294546</td>\n",
       "      <td>-126.073097</td>\n",
       "      <td>49.1534</td>\n",
       "      <td>-123.048</td>\n",
       "      <td>4</td>\n",
       "      <td>2</td>\n",
       "    </tr>\n",
       "  </tbody>\n",
       "</table>\n",
       "</div>"
      ],
      "text/plain": [
       "  Order-Date Delivery-Date Promised-Date Courier  Size of the box height  \\\n",
       "0 2021-01-24    2021-01-27    2021-01-26      PS               29.632656   \n",
       "1 2021-04-09    2021-04-13    2021-04-13      FD               29.632656   \n",
       "2 2021-09-27    2021-10-02    2021-10-02      PS               29.632656   \n",
       "3 2020-11-29    2020-12-04    2020-12-03      PS               29.632656   \n",
       "4 2021-09-06    2021-09-12    2021-09-11      FD               29.632656   \n",
       "\n",
       "   Size of the box width  Size of the box length  Size of the box weight  \\\n",
       "0              34.722553               17.523058                3.807421   \n",
       "1              34.722553               17.523058                1.902088   \n",
       "2              34.722553               17.523058                2.152103   \n",
       "3              34.722553               17.523058                3.802455   \n",
       "4              34.722553               17.523058                5.510081   \n",
       "\n",
       "  Weather     Store address                        Customer address  \\\n",
       "0    Good  49.1534,-123.048   51.29548801984406,-126.07325247944962   \n",
       "1    Good  49.1534,-123.048   51.29486187466757,-126.07255765553835   \n",
       "2    Good  49.1534,-123.048   51.29566033167437,-126.07443435490822   \n",
       "3    Good  49.1534,-123.048  51.295612714656855,-126.07310897909636   \n",
       "4    Good  49.1534,-123.048   51.29454616285458,-126.07309709870711   \n",
       "\n",
       "   shipping_days order_month    distance   cust_lat   cust_long  store_lat  \\\n",
       "0              3     January  321.473027  51.295488 -126.073252    49.1534   \n",
       "1              4       April  321.389102  51.294862 -126.072558    49.1534   \n",
       "2              5   September  321.543559  51.295660 -126.074434    49.1534   \n",
       "3              5    November  321.476244  51.295613 -126.073109    49.1534   \n",
       "4              6   September  321.389395  51.294546 -126.073097    49.1534   \n",
       "\n",
       "   store_long  cust_cluster  store_cluster  \n",
       "0    -123.048             4              2  \n",
       "1    -123.048             4              2  \n",
       "2    -123.048             4              2  \n",
       "3    -123.048             4              2  \n",
       "4    -123.048             4              2  "
      ]
     },
     "execution_count": 21,
     "metadata": {},
     "output_type": "execute_result"
    }
   ],
   "source": [
    "df.head()# After feature engineering"
   ]
  },
  {
   "cell_type": "code",
   "execution_count": 22,
   "id": "03bf0de1",
   "metadata": {},
   "outputs": [],
   "source": [
    "orig_df = df.copy() # create a copy of the dataframe"
   ]
  },
  {
   "cell_type": "markdown",
   "id": "cf62a85b",
   "metadata": {},
   "source": [
    "## 4. Exploratory Data Analysis"
   ]
  },
  {
   "cell_type": "markdown",
   "id": "c0c56646",
   "metadata": {},
   "source": [
    "EDA is used to find the data insights that can be further used to answer some interesting problems, and also in building models."
   ]
  },
  {
   "cell_type": "code",
   "execution_count": 23,
   "id": "adb9ceb9",
   "metadata": {},
   "outputs": [],
   "source": [
    "def hist_box_plot(data, column):\n",
    "    \"\"\"This function plots histogram and boxplot\n",
    "    Input: Dataframe, Attrubute\"\"\"\n",
    "    \n",
    "    fig, axes = plt.subplots(1, 2,figsize=(8, 4)) #create two subplots in a single row\n",
    "    \n",
    "    sns.histplot(ax=axes[0], data=data, x = column) # plot histogram at (0,0)\n",
    "    axes[0].set_title('Histogram') # set title\n",
    "    \n",
    "    sns.boxplot(x = data[column], ax=axes[1]) # plot box plot at (0,1)\n",
    "    axes[1].set_title('Box Plot') # set title\n",
    "    plt.show() # show plot"
   ]
  },
  {
   "cell_type": "code",
   "execution_count": 24,
   "id": "1baca404",
   "metadata": {},
   "outputs": [
    {
     "data": {
      "image/png": "[encoded data removed]",
      "text/plain": [
       "<Figure size 576x288 with 2 Axes>"
      ]
     },
     "metadata": {},
     "output_type": "display_data"
    }
   ],
   "source": [
    "hist_box_plot(df, 'shipping_days')"
   ]
  },
  {
   "cell_type": "code",
   "execution_count": 25,
   "id": "984e9a07",
   "metadata": {
    "scrolled": true
   },
   "outputs": [
    {
     "data": {
      "image/png": "[encoded data removed]",
      "text/plain": [
       "<Figure size 576x288 with 2 Axes>"
      ]
     },
     "metadata": {},
     "output_type": "display_data"
    }
   ],
   "source": [
    "hist_box_plot(df, 'Size of the box height')"
   ]
  },
  {
   "cell_type": "markdown",
   "id": "50d48c43",
   "metadata": {},
   "source": [
    "It can be seen from the boxplot that there are some outliers in the box height data. "
   ]
  },
  {
   "cell_type": "code",
   "execution_count": 26,
   "id": "59ff0898",
   "metadata": {
    "scrolled": true
   },
   "outputs": [
    {
     "data": {
      "image/png": "[encoded data removed]",
      "text/plain": [
       "<Figure size 576x288 with 2 Axes>"
      ]
     },
     "metadata": {},
     "output_type": "display_data"
    }
   ],
   "source": [
    "hist_box_plot(df, 'Size of the box width')"
   ]
  },
  {
   "cell_type": "code",
   "execution_count": 27,
   "id": "505c4816",
   "metadata": {
    "scrolled": true
   },
   "outputs": [
    {
     "data": {
      "image/png": "[encoded data removed]",
      "text/plain": [
       "<Figure size 576x288 with 2 Axes>"
      ]
     },
     "metadata": {},
     "output_type": "display_data"
    }
   ],
   "source": [
    "hist_box_plot(df, 'Size of the box length')"
   ]
  },
  {
   "cell_type": "code",
   "execution_count": 28,
   "id": "0667fb2b",
   "metadata": {
    "scrolled": true
   },
   "outputs": [
    {
     "data": {
      "image/png": "[encoded data removed]",
      "text/plain": [
       "<Figure size 576x288 with 2 Axes>"
      ]
     },
     "metadata": {},
     "output_type": "display_data"
    }
   ],
   "source": [
    "hist_box_plot(df, 'Size of the box weight')"
   ]
  },
  {
   "cell_type": "markdown",
   "id": "8004c419",
   "metadata": {},
   "source": [
    "Robust Scaler is used in the next part of the notebook to deal with the outliers."
   ]
  },
  {
   "cell_type": "code",
   "execution_count": 29,
   "id": "6f3f1a50",
   "metadata": {},
   "outputs": [
    {
     "data": {
      "image/png": "[encoded data removed]",
      "text/plain": [
       "<Figure size 576x288 with 2 Axes>"
      ]
     },
     "metadata": {},
     "output_type": "display_data"
    }
   ],
   "source": [
    "hist_box_plot(df, 'distance')"
   ]
  },
  {
   "cell_type": "code",
   "execution_count": 30,
   "id": "e7139a4b",
   "metadata": {
    "scrolled": false
   },
   "outputs": [
    {
     "data": {
      "image/png": "[encoded data removed]",
      "text/plain": [
       "<Figure size 576x396 with 1 Axes>"
      ]
     },
     "metadata": {},
     "output_type": "display_data"
    }
   ],
   "source": [
    "sns.histplot(data = df, x= 'Order-Date')\n",
    "plt.xticks(rotation = 60)\n",
    "plt.show()"
   ]
  },
  {
   "cell_type": "code",
   "execution_count": 31,
   "id": "fd0563aa",
   "metadata": {},
   "outputs": [],
   "source": [
    "def countplot(data, column):\n",
    "    \"\"\"This function plot the countplot\n",
    "    Input: dataframe, attribute\"\"\"\n",
    "    dd = data[column].value_counts(normalize=True, sort=False).reset_index() # calculate normalize value count\n",
    "    sns.barplot(x = dd['index'], y = dd[column]) # plot bar plot\n",
    "    plt.ylabel('Normalize Count')\n",
    "    plt.show()"
   ]
  },
  {
   "cell_type": "code",
   "execution_count": 32,
   "id": "566a894e",
   "metadata": {
    "scrolled": true
   },
   "outputs": [
    {
     "data": {
      "image/png": "[encoded data removed]",
      "text/plain": [
       "<Figure size 576x396 with 1 Axes>"
      ]
     },
     "metadata": {},
     "output_type": "display_data"
    }
   ],
   "source": [
    "countplot(df, 'Courier')"
   ]
  },
  {
   "cell_type": "markdown",
   "id": "d036325c",
   "metadata": {},
   "source": [
    "It seems that FD got more product to ship than PS"
   ]
  },
  {
   "cell_type": "markdown",
   "id": "0e67e3eb",
   "metadata": {},
   "source": [
    "### 4.1 Correlation Heatmap"
   ]
  },
  {
   "cell_type": "code",
   "execution_count": 33,
   "id": "56674a9d",
   "metadata": {},
   "outputs": [
    {
     "data": {
      "text/plain": [
       "<Figure size 576x576 with 0 Axes>"
      ]
     },
     "execution_count": 33,
     "metadata": {},
     "output_type": "execute_result"
    },
    {
     "data": {
      "image/png": "[encoded data removed]",
      "text/plain": [
       "<Figure size 576x396 with 2 Axes>"
      ]
     },
     "metadata": {},
     "output_type": "display_data"
    },
    {
     "data": {
      "text/plain": [
       "<Figure size 576x576 with 0 Axes>"
      ]
     },
     "metadata": {},
     "output_type": "display_data"
    }
   ],
   "source": [
    "sns.heatmap(df.corr(), annot=True) #plt heatmap for the corelation coefficients\n",
    "plt.figure(figsize=(8, 8))"
   ]
  },
  {
   "cell_type": "code",
   "execution_count": 34,
   "id": "8611fabe",
   "metadata": {
    "scrolled": false
   },
   "outputs": [
    {
     "data": {
      "text/plain": [
       "<AxesSubplot:xlabel='Size of the box weight', ylabel='shipping_days'>"
      ]
     },
     "execution_count": 34,
     "metadata": {},
     "output_type": "execute_result"
    },
    {
     "data": {
      "image/png": "[encoded data removed]",
      "text/plain": [
       "<Figure size 576x396 with 1 Axes>"
      ]
     },
     "metadata": {},
     "output_type": "display_data"
    }
   ],
   "source": [
    "# How number of shipping days varies with the box weight\n",
    "sns.scatterplot(data=df, x = 'Size of the box weight', y = 'shipping_days', hue='Courier') "
   ]
  },
  {
   "cell_type": "markdown",
   "id": "4cdb94e2",
   "metadata": {},
   "source": [
    "It's interesting to know that the number of shipping days increases with the size of the box weight "
   ]
  },
  {
   "cell_type": "code",
   "execution_count": 35,
   "id": "3d2c5885",
   "metadata": {},
   "outputs": [
    {
     "data": {
      "text/plain": [
       "<AxesSubplot:xlabel='Weather'>"
      ]
     },
     "execution_count": 35,
     "metadata": {},
     "output_type": "execute_result"
    },
    {
     "data": {
      "image/png": "[encoded data removed]",
      "text/plain": [
       "<Figure size 576x396 with 1 Axes>"
      ]
     },
     "metadata": {},
     "output_type": "display_data"
    }
   ],
   "source": [
    "#Affect of weather on the mean shipping days\n",
    "df.groupby('Weather')['shipping_days'].mean().plot.bar()"
   ]
  },
  {
   "cell_type": "markdown",
   "id": "8e4776b0",
   "metadata": {},
   "source": [
    "The mean shipping days in the bad weather are more those in good weather."
   ]
  },
  {
   "cell_type": "code",
   "execution_count": 36,
   "id": "3099eae7",
   "metadata": {
    "scrolled": false
   },
   "outputs": [
    {
     "data": {
      "text/plain": [
       "<AxesSubplot:xlabel='order_month'>"
      ]
     },
     "execution_count": 36,
     "metadata": {},
     "output_type": "execute_result"
    },
    {
     "data": {
      "image/png": "[encoded data removed]",
      "text/plain": [
       "<Figure size 576x396 with 1 Axes>"
      ]
     },
     "metadata": {},
     "output_type": "display_data"
    }
   ],
   "source": [
    "# Mean shipping days in each month\n",
    "df.groupby('order_month')['shipping_days'].mean().plot.bar()"
   ]
  },
  {
   "cell_type": "code",
   "execution_count": 37,
   "id": "45f692a4",
   "metadata": {},
   "outputs": [
    {
     "data": {
      "text/plain": [
       "<AxesSubplot:xlabel='Courier'>"
      ]
     },
     "execution_count": 37,
     "metadata": {},
     "output_type": "execute_result"
    },
    {
     "data": {
      "image/png": "[encoded data removed]",
      "text/plain": [
       "<Figure size 576x396 with 1 Axes>"
      ]
     },
     "metadata": {},
     "output_type": "display_data"
    }
   ],
   "source": [
    "# Do shipping days depend on the courier company? \n",
    "df.groupby('Courier')['shipping_days'].mean().plot.bar()"
   ]
  },
  {
   "cell_type": "code",
   "execution_count": 38,
   "id": "1f0f192b",
   "metadata": {
    "scrolled": false
   },
   "outputs": [
    {
     "data": {
      "text/plain": [
       "<AxesSubplot:xlabel='store_cluster'>"
      ]
     },
     "execution_count": 38,
     "metadata": {},
     "output_type": "execute_result"
    },
    {
     "data": {
      "image/png": "[encoded data removed]",
      "text/plain": [
       "<Figure size 576x396 with 1 Axes>"
      ]
     },
     "metadata": {},
     "output_type": "display_data"
    }
   ],
   "source": [
    "# Do shipping days depend on the store address? \n",
    "df.groupby('store_cluster')['shipping_days'].mean().plot.bar()"
   ]
  },
  {
   "cell_type": "markdown",
   "id": "ac8dbd7b",
   "metadata": {},
   "source": [
    "The store addresses in the cluster 5 takes more shipping days than the others"
   ]
  },
  {
   "cell_type": "code",
   "execution_count": 39,
   "id": "7e3a3ba2",
   "metadata": {
    "scrolled": false
   },
   "outputs": [
    {
     "data": {
      "text/plain": [
       "<AxesSubplot:xlabel='cust_cluster'>"
      ]
     },
     "execution_count": 39,
     "metadata": {},
     "output_type": "execute_result"
    },
    {
     "data": {
      "image/png": "[encoded data removed]",
      "text/plain": [
       "<Figure size 576x396 with 1 Axes>"
      ]
     },
     "metadata": {},
     "output_type": "display_data"
    }
   ],
   "source": [
    "# Do shipping days depend on the customer address? \n",
    "df.groupby('cust_cluster')['shipping_days'].mean().plot.bar()"
   ]
  },
  {
   "cell_type": "markdown",
   "id": "4708ebf6",
   "metadata": {},
   "source": [
    "Some clusters such as 1 and 3 requires more time for delivery"
   ]
  },
  {
   "cell_type": "markdown",
   "id": "b8753df0",
   "metadata": {},
   "source": [
    "## 5. Building Model"
   ]
  },
  {
   "cell_type": "code",
   "execution_count": 40,
   "id": "4d88252d",
   "metadata": {},
   "outputs": [],
   "source": [
    "def make_x_y(data, drop_columns):\n",
    "    \"\"\"This function divides the data into dependent and independent variables\"\"\"\n",
    "    df = data.drop(columns=drop_columns)\n",
    "    y_col = 'shipping_days'\n",
    "    x_col = [col for col in df.columns if col != y_col]\n",
    "    y = df[y_col]\n",
    "    x = df.loc[:, x_col]\n",
    "    \n",
    "    return x, y"
   ]
  },
  {
   "cell_type": "code",
   "execution_count": 41,
   "id": "80d41325",
   "metadata": {},
   "outputs": [
    {
     "name": "stdout",
     "output_type": "stream",
     "text": [
      "(9222, 10) (9222,)\n"
     ]
    }
   ],
   "source": [
    "drop_columns = ['Store address', 'Customer address', 'cust_lat', 'cust_long', 'store_lat',\n",
    "                'store_long', 'Order-Date', 'Delivery-Date', 'Promised-Date']\n",
    "x, y = make_x_y(orig_df, drop_columns)\n",
    "print(x.shape, y.shape)"
   ]
  },
  {
   "cell_type": "code",
   "execution_count": 42,
   "id": "fef78761",
   "metadata": {},
   "outputs": [],
   "source": [
    "def train_test(x, y, test_size = 0.2):\n",
    "    x_train, x_test, y_train, y_test = train_test_split(x, y, test_size=test_size, random_state=42)\n",
    "    return x_train, x_test, y_train, y_test"
   ]
  },
  {
   "cell_type": "code",
   "execution_count": 43,
   "id": "f65a0785",
   "metadata": {},
   "outputs": [],
   "source": [
    "x_train, x_test, y_train, y_test = train_test(x, y)"
   ]
  },
  {
   "cell_type": "code",
   "execution_count": 44,
   "id": "019157b4",
   "metadata": {},
   "outputs": [],
   "source": [
    "def create_pipeline(scaler, scaler_cols, ohe_cols, model):\n",
    "    \"\"\"This functions create pipeline with one hot encoder and scaler\"\"\"\n",
    "    column_trans = make_column_transformer((\n",
    "    OneHotEncoder(drop='first'), ohe_cols),\n",
    "    (scaler, scaler_cols),\n",
    "    remainder = 'passthrough')\n",
    "    pipe = Pipeline(steps = [('column_trans', column_trans), ('model', model)])\n",
    "    return pipe"
   ]
  },
  {
   "cell_type": "code",
   "execution_count": 45,
   "id": "9eb03e97",
   "metadata": {},
   "outputs": [],
   "source": [
    "def create_gridsearchcv(pipe, param_dict, cv = 5, scoring = 'neg_root_mean_squared_error'):\n",
    "    cv = GridSearchCV(pipe, param_grid = param_dict, cv = cv, scoring = scoring)\n",
    "    return cv"
   ]
  },
  {
   "cell_type": "code",
   "execution_count": 46,
   "id": "3cb21f52",
   "metadata": {},
   "outputs": [],
   "source": [
    "def print_cv_result(cv):\n",
    "    \"\"\"This functions prints the results\"\"\"\n",
    "    print(f'BEST PARAMETERS: {cv.best_params_}')\n",
    "    means = cv.cv_results_['mean_test_score']\n",
    "    stds = cv.cv_results_['std_test_score']\n",
    "    params = cv.cv_results_['params']\n",
    "    i=0\n",
    "    for p, m, s in zip(params, means, stds):\n",
    "        print(p, f'mean_test_score: {m}', f'std_test_score: {s}')\n",
    "        i+=1"
   ]
  },
  {
   "cell_type": "markdown",
   "id": "9824ff48",
   "metadata": {},
   "source": [
    "### 5.1 Ridge Regression"
   ]
  },
  {
   "cell_type": "code",
   "execution_count": 66,
   "id": "2a0afc59",
   "metadata": {},
   "outputs": [],
   "source": [
    "# Linear Regression with robust scaler\n",
    "ohe_cols = ['Weather', 'Courier', 'order_month', 'cust_cluster', 'store_cluster']\n",
    "scaler = RobustScaler()\n",
    "scaler_cols = ['Size of the box height', 'Size of the box width',\n",
    "               'Size of the box length', 'Size of the box weight', 'distance']\n",
    "model = Ridge(normalize = False)\n",
    "pipeline = create_pipeline(scaler, scaler_cols, ohe_cols, model)\n",
    "param_dict = {\"model__alpha\":[0.001, 0.01, 0.1, 1, 10]}\n",
    "cv = create_gridsearchcv(pipeline, param_dict, cv = 5, scoring = 'neg_root_mean_squared_error')"
   ]
  },
  {
   "cell_type": "code",
   "execution_count": 67,
   "id": "e46b8277",
   "metadata": {
    "scrolled": true
   },
   "outputs": [
    {
     "name": "stderr",
     "output_type": "stream",
     "text": [
      "D:\\Anaconda\\envs\\adv_maths\\lib\\site-packages\\sklearn\\linear_model\\_base.py:148: FutureWarning: 'normalize' was deprecated in version 1.0 and will be removed in 1.2. Please leave the normalize parameter to its default value to silence this warning. The default behavior of this estimator is to not do any normalization. If normalization is needed please use sklearn.preprocessing.StandardScaler instead.\n",
      "  warnings.warn(\n",
      "D:\\Anaconda\\envs\\adv_maths\\lib\\site-packages\\sklearn\\linear_model\\_base.py:148: FutureWarning: 'normalize' was deprecated in version 1.0 and will be removed in 1.2. Please leave the normalize parameter to its default value to silence this warning. The default behavior of this estimator is to not do any normalization. If normalization is needed please use sklearn.preprocessing.StandardScaler instead.\n",
      "  warnings.warn(\n",
      "D:\\Anaconda\\envs\\adv_maths\\lib\\site-packages\\sklearn\\linear_model\\_base.py:148: FutureWarning: 'normalize' was deprecated in version 1.0 and will be removed in 1.2. Please leave the normalize parameter to its default value to silence this warning. The default behavior of this estimator is to not do any normalization. If normalization is needed please use sklearn.preprocessing.StandardScaler instead.\n",
      "  warnings.warn(\n",
      "D:\\Anaconda\\envs\\adv_maths\\lib\\site-packages\\sklearn\\linear_model\\_base.py:148: FutureWarning: 'normalize' was deprecated in version 1.0 and will be removed in 1.2. Please leave the normalize parameter to its default value to silence this warning. The default behavior of this estimator is to not do any normalization. If normalization is needed please use sklearn.preprocessing.StandardScaler instead.\n",
      "  warnings.warn(\n",
      "D:\\Anaconda\\envs\\adv_maths\\lib\\site-packages\\sklearn\\linear_model\\_base.py:148: FutureWarning: 'normalize' was deprecated in version 1.0 and will be removed in 1.2. Please leave the normalize parameter to its default value to silence this warning. The default behavior of this estimator is to not do any normalization. If normalization is needed please use sklearn.preprocessing.StandardScaler instead.\n",
      "  warnings.warn(\n",
      "D:\\Anaconda\\envs\\adv_maths\\lib\\site-packages\\sklearn\\linear_model\\_base.py:148: FutureWarning: 'normalize' was deprecated in version 1.0 and will be removed in 1.2. Please leave the normalize parameter to its default value to silence this warning. The default behavior of this estimator is to not do any normalization. If normalization is needed please use sklearn.preprocessing.StandardScaler instead.\n",
      "  warnings.warn(\n",
      "D:\\Anaconda\\envs\\adv_maths\\lib\\site-packages\\sklearn\\linear_model\\_base.py:148: FutureWarning: 'normalize' was deprecated in version 1.0 and will be removed in 1.2. Please leave the normalize parameter to its default value to silence this warning. The default behavior of this estimator is to not do any normalization. If normalization is needed please use sklearn.preprocessing.StandardScaler instead.\n",
      "  warnings.warn(\n",
      "D:\\Anaconda\\envs\\adv_maths\\lib\\site-packages\\sklearn\\linear_model\\_base.py:148: FutureWarning: 'normalize' was deprecated in version 1.0 and will be removed in 1.2. Please leave the normalize parameter to its default value to silence this warning. The default behavior of this estimator is to not do any normalization. If normalization is needed please use sklearn.preprocessing.StandardScaler instead.\n",
      "  warnings.warn(\n",
      "D:\\Anaconda\\envs\\adv_maths\\lib\\site-packages\\sklearn\\linear_model\\_base.py:148: FutureWarning: 'normalize' was deprecated in version 1.0 and will be removed in 1.2. Please leave the normalize parameter to its default value to silence this warning. The default behavior of this estimator is to not do any normalization. If normalization is needed please use sklearn.preprocessing.StandardScaler instead.\n",
      "  warnings.warn(\n",
      "D:\\Anaconda\\envs\\adv_maths\\lib\\site-packages\\sklearn\\linear_model\\_base.py:148: FutureWarning: 'normalize' was deprecated in version 1.0 and will be removed in 1.2. Please leave the normalize parameter to its default value to silence this warning. The default behavior of this estimator is to not do any normalization. If normalization is needed please use sklearn.preprocessing.StandardScaler instead.\n",
      "  warnings.warn(\n",
      "D:\\Anaconda\\envs\\adv_maths\\lib\\site-packages\\sklearn\\linear_model\\_base.py:148: FutureWarning: 'normalize' was deprecated in version 1.0 and will be removed in 1.2. Please leave the normalize parameter to its default value to silence this warning. The default behavior of this estimator is to not do any normalization. If normalization is needed please use sklearn.preprocessing.StandardScaler instead.\n",
      "  warnings.warn(\n",
      "D:\\Anaconda\\envs\\adv_maths\\lib\\site-packages\\sklearn\\linear_model\\_base.py:148: FutureWarning: 'normalize' was deprecated in version 1.0 and will be removed in 1.2. Please leave the normalize parameter to its default value to silence this warning. The default behavior of this estimator is to not do any normalization. If normalization is needed please use sklearn.preprocessing.StandardScaler instead.\n",
      "  warnings.warn(\n",
      "D:\\Anaconda\\envs\\adv_maths\\lib\\site-packages\\sklearn\\linear_model\\_base.py:148: FutureWarning: 'normalize' was deprecated in version 1.0 and will be removed in 1.2. Please leave the normalize parameter to its default value to silence this warning. The default behavior of this estimator is to not do any normalization. If normalization is needed please use sklearn.preprocessing.StandardScaler instead.\n",
      "  warnings.warn(\n",
      "D:\\Anaconda\\envs\\adv_maths\\lib\\site-packages\\sklearn\\linear_model\\_base.py:148: FutureWarning: 'normalize' was deprecated in version 1.0 and will be removed in 1.2. Please leave the normalize parameter to its default value to silence this warning. The default behavior of this estimator is to not do any normalization. If normalization is needed please use sklearn.preprocessing.StandardScaler instead.\n",
      "  warnings.warn(\n",
      "D:\\Anaconda\\envs\\adv_maths\\lib\\site-packages\\sklearn\\linear_model\\_base.py:148: FutureWarning: 'normalize' was deprecated in version 1.0 and will be removed in 1.2. Please leave the normalize parameter to its default value to silence this warning. The default behavior of this estimator is to not do any normalization. If normalization is needed please use sklearn.preprocessing.StandardScaler instead.\n",
      "  warnings.warn(\n",
      "D:\\Anaconda\\envs\\adv_maths\\lib\\site-packages\\sklearn\\linear_model\\_base.py:148: FutureWarning: 'normalize' was deprecated in version 1.0 and will be removed in 1.2. Please leave the normalize parameter to its default value to silence this warning. The default behavior of this estimator is to not do any normalization. If normalization is needed please use sklearn.preprocessing.StandardScaler instead.\n",
      "  warnings.warn(\n",
      "D:\\Anaconda\\envs\\adv_maths\\lib\\site-packages\\sklearn\\linear_model\\_base.py:148: FutureWarning: 'normalize' was deprecated in version 1.0 and will be removed in 1.2. Please leave the normalize parameter to its default value to silence this warning. The default behavior of this estimator is to not do any normalization. If normalization is needed please use sklearn.preprocessing.StandardScaler instead.\n",
      "  warnings.warn(\n",
      "D:\\Anaconda\\envs\\adv_maths\\lib\\site-packages\\sklearn\\linear_model\\_base.py:148: FutureWarning: 'normalize' was deprecated in version 1.0 and will be removed in 1.2. Please leave the normalize parameter to its default value to silence this warning. The default behavior of this estimator is to not do any normalization. If normalization is needed please use sklearn.preprocessing.StandardScaler instead.\n",
      "  warnings.warn(\n",
      "D:\\Anaconda\\envs\\adv_maths\\lib\\site-packages\\sklearn\\linear_model\\_base.py:148: FutureWarning: 'normalize' was deprecated in version 1.0 and will be removed in 1.2. Please leave the normalize parameter to its default value to silence this warning. The default behavior of this estimator is to not do any normalization. If normalization is needed please use sklearn.preprocessing.StandardScaler instead.\n",
      "  warnings.warn(\n",
      "D:\\Anaconda\\envs\\adv_maths\\lib\\site-packages\\sklearn\\linear_model\\_base.py:148: FutureWarning: 'normalize' was deprecated in version 1.0 and will be removed in 1.2. Please leave the normalize parameter to its default value to silence this warning. The default behavior of this estimator is to not do any normalization. If normalization is needed please use sklearn.preprocessing.StandardScaler instead.\n",
      "  warnings.warn(\n",
      "D:\\Anaconda\\envs\\adv_maths\\lib\\site-packages\\sklearn\\linear_model\\_base.py:148: FutureWarning: 'normalize' was deprecated in version 1.0 and will be removed in 1.2. Please leave the normalize parameter to its default value to silence this warning. The default behavior of this estimator is to not do any normalization. If normalization is needed please use sklearn.preprocessing.StandardScaler instead.\n",
      "  warnings.warn(\n",
      "D:\\Anaconda\\envs\\adv_maths\\lib\\site-packages\\sklearn\\linear_model\\_base.py:148: FutureWarning: 'normalize' was deprecated in version 1.0 and will be removed in 1.2. Please leave the normalize parameter to its default value to silence this warning. The default behavior of this estimator is to not do any normalization. If normalization is needed please use sklearn.preprocessing.StandardScaler instead.\n",
      "  warnings.warn(\n"
     ]
    },
    {
     "name": "stderr",
     "output_type": "stream",
     "text": [
      "D:\\Anaconda\\envs\\adv_maths\\lib\\site-packages\\sklearn\\linear_model\\_base.py:148: FutureWarning: 'normalize' was deprecated in version 1.0 and will be removed in 1.2. Please leave the normalize parameter to its default value to silence this warning. The default behavior of this estimator is to not do any normalization. If normalization is needed please use sklearn.preprocessing.StandardScaler instead.\n",
      "  warnings.warn(\n",
      "D:\\Anaconda\\envs\\adv_maths\\lib\\site-packages\\sklearn\\linear_model\\_base.py:148: FutureWarning: 'normalize' was deprecated in version 1.0 and will be removed in 1.2. Please leave the normalize parameter to its default value to silence this warning. The default behavior of this estimator is to not do any normalization. If normalization is needed please use sklearn.preprocessing.StandardScaler instead.\n",
      "  warnings.warn(\n",
      "D:\\Anaconda\\envs\\adv_maths\\lib\\site-packages\\sklearn\\linear_model\\_base.py:148: FutureWarning: 'normalize' was deprecated in version 1.0 and will be removed in 1.2. Please leave the normalize parameter to its default value to silence this warning. The default behavior of this estimator is to not do any normalization. If normalization is needed please use sklearn.preprocessing.StandardScaler instead.\n",
      "  warnings.warn(\n",
      "D:\\Anaconda\\envs\\adv_maths\\lib\\site-packages\\sklearn\\linear_model\\_base.py:148: FutureWarning: 'normalize' was deprecated in version 1.0 and will be removed in 1.2. Please leave the normalize parameter to its default value to silence this warning. The default behavior of this estimator is to not do any normalization. If normalization is needed please use sklearn.preprocessing.StandardScaler instead.\n",
      "  warnings.warn(\n"
     ]
    },
    {
     "data": {
      "text/plain": [
       "GridSearchCV(cv=5,\n",
       "             estimator=Pipeline(steps=[('column_trans',\n",
       "                                        ColumnTransformer(remainder='passthrough',\n",
       "                                                          transformers=[('onehotencoder',\n",
       "                                                                         OneHotEncoder(drop='first'),\n",
       "                                                                         ['Weather',\n",
       "                                                                          'Courier',\n",
       "                                                                          'order_month',\n",
       "                                                                          'cust_cluster',\n",
       "                                                                          'store_cluster']),\n",
       "                                                                        ('robustscaler',\n",
       "                                                                         RobustScaler(),\n",
       "                                                                         ['Size '\n",
       "                                                                          'of '\n",
       "                                                                          'the '\n",
       "                                                                          'box '\n",
       "                                                                          'height',\n",
       "                                                                          'Size '\n",
       "                                                                          'of '\n",
       "                                                                          'the '\n",
       "                                                                          'box '\n",
       "                                                                          'width',\n",
       "                                                                          'Size '\n",
       "                                                                          'of '\n",
       "                                                                          'the '\n",
       "                                                                          'box '\n",
       "                                                                          'length',\n",
       "                                                                          'Size '\n",
       "                                                                          'of '\n",
       "                                                                          'the '\n",
       "                                                                          'box '\n",
       "                                                                          'weight',\n",
       "                                                                          'distance'])])),\n",
       "                                       ('model', Ridge(normalize=False))]),\n",
       "             param_grid={'model__alpha': [0.001, 0.01, 0.1, 1, 10]},\n",
       "             scoring='neg_root_mean_squared_error')"
      ]
     },
     "execution_count": 67,
     "metadata": {},
     "output_type": "execute_result"
    }
   ],
   "source": [
    "cv.fit(x_train, y_train)"
   ]
  },
  {
   "cell_type": "code",
   "execution_count": 68,
   "id": "ae0f71a6",
   "metadata": {
    "scrolled": true
   },
   "outputs": [
    {
     "name": "stdout",
     "output_type": "stream",
     "text": [
      "BEST PARAMETERS: {'model__alpha': 1}\n",
      "{'model__alpha': 0.001} mean_test_score: -5.477808294708046 std_test_score: 0.08049327922160518\n",
      "{'model__alpha': 0.01} mean_test_score: -5.477805066110264 std_test_score: 0.08048302806130136\n",
      "{'model__alpha': 0.1} mean_test_score: -5.477774655367845 std_test_score: 0.0803814812676274\n",
      "{'model__alpha': 1} mean_test_score: -5.477641055022414 std_test_score: 0.07944850283136053\n",
      "{'model__alpha': 10} mean_test_score: -5.485317000576201 std_test_score: 0.07330025541986651\n"
     ]
    }
   ],
   "source": [
    "print_cv_result(cv)"
   ]
  },
  {
   "cell_type": "code",
   "execution_count": 69,
   "id": "cc50d709",
   "metadata": {},
   "outputs": [],
   "source": [
    "def find_mse(cv, x_train, y_train, x_test, y_test):\n",
    "    y_test_hat = cv.predict(x_test)\n",
    "    y_train_hat = cv.predict(x_train)\n",
    "    mse_test = mean_squared_error(y_true=y_test, y_pred=y_test_hat)\n",
    "    mse_train = mean_squared_error(y_true=y_train, y_pred=y_train_hat)\n",
    "    return mse_test, mse_train"
   ]
  },
  {
   "cell_type": "code",
   "execution_count": 70,
   "id": "931fe5a3",
   "metadata": {},
   "outputs": [
    {
     "data": {
      "text/plain": [
       "(29.808313708647614, 29.732013351481402)"
      ]
     },
     "execution_count": 70,
     "metadata": {},
     "output_type": "execute_result"
    }
   ],
   "source": [
    "find_mse(cv, x_train, y_train, x_test, y_test)"
   ]
  },
  {
   "cell_type": "code",
   "execution_count": 81,
   "id": "8c87778b",
   "metadata": {},
   "outputs": [],
   "source": [
    "model_name = ['Ridge_rs']\n",
    "# result = {'train_mse':[29.732013351481402], \"test_mse\": [29.808313708647614]}"
   ]
  },
  {
   "cell_type": "markdown",
   "id": "bc4c25de",
   "metadata": {},
   "source": [
    "### 5.2 Random forest"
   ]
  },
  {
   "cell_type": "code",
   "execution_count": 55,
   "id": "44b7e689",
   "metadata": {},
   "outputs": [],
   "source": [
    "# Random forest with robust scaler\n",
    "ohe_cols = ['Weather', 'Courier', 'order_month', 'cust_cluster', 'store_cluster']\n",
    "scaler = RobustScaler()\n",
    "scaler_cols = ['Size of the box height', 'Size of the box width',\n",
    "               'Size of the box length', 'Size of the box weight', 'distance']\n",
    "model = RandomForestRegressor(n_jobs=-1)\n",
    "pipeline = create_pipeline(scaler, scaler_cols, ohe_cols, model)\n",
    "param_dict = {\"model__n_estimators\":[10, 50, 100, 200, 500, 1000], \"model__max_depth\": [16, 64, None]}\n",
    "cv = create_gridsearchcv(pipeline, param_dict, cv = 5, scoring = 'neg_root_mean_squared_error')"
   ]
  },
  {
   "cell_type": "code",
   "execution_count": 56,
   "id": "ba0824ad",
   "metadata": {
    "scrolled": true
   },
   "outputs": [
    {
     "data": {
      "text/plain": [
       "GridSearchCV(cv=5,\n",
       "             estimator=Pipeline(steps=[('column_trans',\n",
       "                                        ColumnTransformer(remainder='passthrough',\n",
       "                                                          transformers=[('onehotencoder',\n",
       "                                                                         OneHotEncoder(drop='first'),\n",
       "                                                                         ['Weather',\n",
       "                                                                          'Courier',\n",
       "                                                                          'order_month',\n",
       "                                                                          'cust_cluster',\n",
       "                                                                          'store_cluster']),\n",
       "                                                                        ('robustscaler',\n",
       "                                                                         RobustScaler(),\n",
       "                                                                         ['Size '\n",
       "                                                                          'of '\n",
       "                                                                          'the '\n",
       "                                                                          'box '\n",
       "                                                                          'height',\n",
       "                                                                          'Size '\n",
       "                                                                          'of '\n",
       "                                                                          'the '\n",
       "                                                                          'box '\n",
       "                                                                          'width',\n",
       "                                                                          'Size '\n",
       "                                                                          'of '\n",
       "                                                                          'the '\n",
       "                                                                          'box '\n",
       "                                                                          'length',\n",
       "                                                                          'Size '\n",
       "                                                                          'of '\n",
       "                                                                          'the '\n",
       "                                                                          'box '\n",
       "                                                                          'weight',\n",
       "                                                                          'distance'])])),\n",
       "                                       ('model',\n",
       "                                        RandomForestRegressor(n_jobs=-1))]),\n",
       "             param_grid={'model__max_depth': [16, 64, None],\n",
       "                         'model__n_estimators': [10, 50, 100, 200, 500, 1000]},\n",
       "             scoring='neg_root_mean_squared_error')"
      ]
     },
     "execution_count": 56,
     "metadata": {},
     "output_type": "execute_result"
    }
   ],
   "source": [
    "cv.fit(x_train, y_train)"
   ]
  },
  {
   "cell_type": "code",
   "execution_count": 58,
   "id": "8317c462",
   "metadata": {
    "scrolled": true
   },
   "outputs": [
    {
     "name": "stdout",
     "output_type": "stream",
     "text": [
      "BEST PARAMETERS: {'model__max_depth': 16, 'model__n_estimators': 500}\n",
      "{'model__max_depth': 16, 'model__n_estimators': 10} mean_test_score: -1.917697153511518 std_test_score: 0.09104252879860293\n",
      "{'model__max_depth': 16, 'model__n_estimators': 50} mean_test_score: -1.824015688272673 std_test_score: 0.09291142580780366\n",
      "{'model__max_depth': 16, 'model__n_estimators': 100} mean_test_score: -1.8107879366137467 std_test_score: 0.08849494610900838\n",
      "{'model__max_depth': 16, 'model__n_estimators': 200} mean_test_score: -1.8077700039679165 std_test_score: 0.09623413692581466\n",
      "{'model__max_depth': 16, 'model__n_estimators': 500} mean_test_score: -1.8029682817060995 std_test_score: 0.08914516875727835\n",
      "{'model__max_depth': 16, 'model__n_estimators': 1000} mean_test_score: -1.8038517867313217 std_test_score: 0.09259325413497395\n",
      "{'model__max_depth': 64, 'model__n_estimators': 10} mean_test_score: -1.871767530589135 std_test_score: 0.10059660033914883\n",
      "{'model__max_depth': 64, 'model__n_estimators': 50} mean_test_score: -1.8380304771261862 std_test_score: 0.09400288017709732\n",
      "{'model__max_depth': 64, 'model__n_estimators': 100} mean_test_score: -1.8086250148312097 std_test_score: 0.0921532338421689\n",
      "{'model__max_depth': 64, 'model__n_estimators': 200} mean_test_score: -1.8135936753075934 std_test_score: 0.09514271305422964\n",
      "{'model__max_depth': 64, 'model__n_estimators': 500} mean_test_score: -1.8126884545248014 std_test_score: 0.08974502587900161\n",
      "{'model__max_depth': 64, 'model__n_estimators': 1000} mean_test_score: -1.807310058810223 std_test_score: 0.0889750438177599\n",
      "{'model__max_depth': None, 'model__n_estimators': 10} mean_test_score: -1.9106771508959774 std_test_score: 0.10558094133025828\n",
      "{'model__max_depth': None, 'model__n_estimators': 50} mean_test_score: -1.846936046480187 std_test_score: 0.08452794567827376\n",
      "{'model__max_depth': None, 'model__n_estimators': 100} mean_test_score: -1.808809451131463 std_test_score: 0.09426915283751021\n",
      "{'model__max_depth': None, 'model__n_estimators': 200} mean_test_score: -1.813280693936099 std_test_score: 0.09968686338467443\n",
      "{'model__max_depth': None, 'model__n_estimators': 500} mean_test_score: -1.8107561948869269 std_test_score: 0.09140342314653772\n",
      "{'model__max_depth': None, 'model__n_estimators': 1000} mean_test_score: -1.8091421429522836 std_test_score: 0.09062477209553173\n"
     ]
    }
   ],
   "source": [
    "print_cv_result(cv)"
   ]
  },
  {
   "cell_type": "code",
   "execution_count": 69,
   "id": "20a241c2",
   "metadata": {},
   "outputs": [],
   "source": [
    "def find_mse(cv, x_train, y_train, x_test, y_test):\n",
    "    y_test_hat = cv.predict(x_test)\n",
    "    y_train_hat = cv.predict(x_train)\n",
    "    mse_test = mean_squared_error(y_true=y_test, y_pred=y_test_hat)\n",
    "    mse_train = mean_squared_error(y_true=y_train, y_pred=y_train_hat)\n",
    "    return mse_test, mse_train"
   ]
  },
  {
   "cell_type": "code",
   "execution_count": 62,
   "id": "a58ba29e",
   "metadata": {},
   "outputs": [
    {
     "data": {
      "text/plain": [
       "(3.12454170769266, 0.5713128459650793)"
      ]
     },
     "execution_count": 62,
     "metadata": {},
     "output_type": "execute_result"
    }
   ],
   "source": [
    "find_mse(cv, x_train, y_train, x_test, y_test)"
   ]
  },
  {
   "cell_type": "code",
   "execution_count": 73,
   "id": "de87af3d",
   "metadata": {},
   "outputs": [],
   "source": [
    "result['test_mse'].append(3.12454170769266)\n",
    "result[\"train_mse\"].append(0.5713128459650793)"
   ]
  },
  {
   "cell_type": "code",
   "execution_count": 82,
   "id": "f075ed7c",
   "metadata": {},
   "outputs": [],
   "source": [
    "model_name.append('Random_forest_rs')"
   ]
  },
  {
   "cell_type": "markdown",
   "id": "a17868a2",
   "metadata": {},
   "source": [
    "### 5.3 Neural Network"
   ]
  },
  {
   "cell_type": "code",
   "execution_count": 57,
   "id": "661e1e7a",
   "metadata": {},
   "outputs": [
    {
     "data": {
      "text/plain": [
       "ColumnTransformer(remainder='passthrough',\n",
       "                  transformers=[('onehotencoder', OneHotEncoder(drop='first'),\n",
       "                                 ['Weather', 'Courier', 'order_month',\n",
       "                                  'cust_cluster', 'store_cluster']),\n",
       "                                ('standardscaler', StandardScaler(),\n",
       "                                 ['Size of the box height',\n",
       "                                  'Size of the box width',\n",
       "                                  'Size of the box length',\n",
       "                                  'Size of the box weight', 'distance'])])"
      ]
     },
     "execution_count": 57,
     "metadata": {},
     "output_type": "execute_result"
    }
   ],
   "source": [
    "column_trans = make_column_transformer((\n",
    "    OneHotEncoder(drop='first'), ['Weather', 'Courier', 'order_month', 'cust_cluster', 'store_cluster']),\n",
    "    (StandardScaler(), ['Size of the box height', 'Size of the box width',\n",
    "               'Size of the box length', 'Size of the box weight', 'distance']),\n",
    "    remainder = 'passthrough')\n",
    "column_trans.fit(x_train)"
   ]
  },
  {
   "cell_type": "code",
   "execution_count": 58,
   "id": "bf21ce9d",
   "metadata": {},
   "outputs": [],
   "source": [
    "x_train = column_trans.transform(x_train)\n",
    "x_test = column_trans.transform(x_test)"
   ]
  },
  {
   "cell_type": "code",
   "execution_count": 60,
   "id": "111b0976",
   "metadata": {},
   "outputs": [
    {
     "name": "stdout",
     "output_type": "stream",
     "text": [
      "Model: \"sequential\"\n",
      "_________________________________________________________________\n",
      " Layer (type)                Output Shape              Param #   \n",
      "=================================================================\n",
      " dense (Dense)               (None, 16)                496       \n",
      "                                                                 \n",
      " dense_1 (Dense)             (None, 8)                 136       \n",
      "                                                                 \n",
      " dense_2 (Dense)             (None, 4)                 36        \n",
      "                                                                 \n",
      " dense_3 (Dense)             (None, 1)                 5         \n",
      "                                                                 \n",
      "=================================================================\n",
      "Total params: 673\n",
      "Trainable params: 673\n",
      "Non-trainable params: 0\n",
      "_________________________________________________________________\n"
     ]
    }
   ],
   "source": [
    "model = Sequential()\n",
    "model.add(Dense(16, input_dim=(30), activation='relu'))\n",
    "model.add(Dense(8, activation='relu'))\n",
    "model.add(Dense(4, activation='relu'))\n",
    "model.add(Dense(1, activation='relu'))\n",
    "model.summary()"
   ]
  },
  {
   "cell_type": "code",
   "execution_count": 61,
   "id": "ca39bf88",
   "metadata": {},
   "outputs": [],
   "source": [
    "model.compile(loss=MeanSquaredError(), optimizer='adam', metrics=['mse'])"
   ]
  },
  {
   "cell_type": "code",
   "execution_count": 64,
   "id": "05e85da1",
   "metadata": {
    "scrolled": true
   },
   "outputs": [
    {
     "name": "stdout",
     "output_type": "stream",
     "text": [
      "Epoch 1/200\n",
      "231/231 [==============================] - 1s 4ms/step - loss: 38.9842 - mse: 38.9842 - val_loss: 36.2438 - val_mse: 36.2438\n",
      "Epoch 2/200\n",
      "231/231 [==============================] - 1s 3ms/step - loss: 34.3620 - mse: 34.3620 - val_loss: 32.7273 - val_mse: 32.7273\n",
      "Epoch 3/200\n",
      "231/231 [==============================] - 1s 3ms/step - loss: 31.8425 - mse: 31.8425 - val_loss: 31.0315 - val_mse: 31.0315\n",
      "Epoch 4/200\n",
      "231/231 [==============================] - 1s 3ms/step - loss: 30.6344 - mse: 30.6344 - val_loss: 30.1343 - val_mse: 30.1343\n",
      "Epoch 5/200\n",
      "231/231 [==============================] - 1s 3ms/step - loss: 29.5497 - mse: 29.5497 - val_loss: 29.1244 - val_mse: 29.1244\n",
      "Epoch 6/200\n",
      "231/231 [==============================] - 1s 3ms/step - loss: 28.1721 - mse: 28.1721 - val_loss: 27.2595 - val_mse: 27.2595\n",
      "Epoch 7/200\n",
      "231/231 [==============================] - 1s 3ms/step - loss: 26.3144 - mse: 26.3144 - val_loss: 25.2987 - val_mse: 25.2987\n",
      "Epoch 8/200\n",
      "231/231 [==============================] - 1s 3ms/step - loss: 24.4418 - mse: 24.4418 - val_loss: 23.5450 - val_mse: 23.5450\n",
      "Epoch 9/200\n",
      "231/231 [==============================] - 1s 3ms/step - loss: 22.7837 - mse: 22.7837 - val_loss: 22.1981 - val_mse: 22.1981\n",
      "Epoch 10/200\n",
      "231/231 [==============================] - 1s 3ms/step - loss: 21.3944 - mse: 21.3944 - val_loss: 20.9344 - val_mse: 20.9344\n",
      "Epoch 11/200\n",
      "231/231 [==============================] - 1s 3ms/step - loss: 20.0801 - mse: 20.0801 - val_loss: 19.8134 - val_mse: 19.8134\n",
      "Epoch 12/200\n",
      "231/231 [==============================] - 1s 4ms/step - loss: 18.9280 - mse: 18.9280 - val_loss: 19.0477 - val_mse: 19.0477\n",
      "Epoch 13/200\n",
      "231/231 [==============================] - 1s 3ms/step - loss: 17.8264 - mse: 17.8264 - val_loss: 18.1567 - val_mse: 18.1567\n",
      "Epoch 14/200\n",
      "231/231 [==============================] - 1s 4ms/step - loss: 16.8242 - mse: 16.8242 - val_loss: 17.1828 - val_mse: 17.1828\n",
      "Epoch 15/200\n",
      "231/231 [==============================] - 1s 3ms/step - loss: 15.7279 - mse: 15.7279 - val_loss: 16.4172 - val_mse: 16.4172\n",
      "Epoch 16/200\n",
      "231/231 [==============================] - 1s 3ms/step - loss: 14.8716 - mse: 14.8716 - val_loss: 15.6507 - val_mse: 15.6507\n",
      "Epoch 17/200\n",
      "231/231 [==============================] - 1s 4ms/step - loss: 14.0095 - mse: 14.0095 - val_loss: 15.1586 - val_mse: 15.1586\n",
      "Epoch 18/200\n",
      "231/231 [==============================] - 1s 3ms/step - loss: 13.2443 - mse: 13.2443 - val_loss: 14.4263 - val_mse: 14.4263\n",
      "Epoch 19/200\n",
      "231/231 [==============================] - 1s 3ms/step - loss: 12.5825 - mse: 12.5825 - val_loss: 14.0059 - val_mse: 14.0059\n",
      "Epoch 20/200\n",
      "231/231 [==============================] - 1s 3ms/step - loss: 11.9734 - mse: 11.9734 - val_loss: 13.5192 - val_mse: 13.5192\n",
      "Epoch 21/200\n",
      "231/231 [==============================] - 1s 3ms/step - loss: 11.4987 - mse: 11.4987 - val_loss: 13.1972 - val_mse: 13.1972\n",
      "Epoch 22/200\n",
      "231/231 [==============================] - 1s 3ms/step - loss: 11.1760 - mse: 11.1760 - val_loss: 12.8151 - val_mse: 12.8151\n",
      "Epoch 23/200\n",
      "231/231 [==============================] - 1s 3ms/step - loss: 10.7154 - mse: 10.7154 - val_loss: 12.6961 - val_mse: 12.6961\n",
      "Epoch 24/200\n",
      "231/231 [==============================] - 1s 3ms/step - loss: 10.4447 - mse: 10.4447 - val_loss: 12.3583 - val_mse: 12.3583\n",
      "Epoch 25/200\n",
      "231/231 [==============================] - 1s 3ms/step - loss: 10.2231 - mse: 10.2231 - val_loss: 12.3043 - val_mse: 12.3043\n",
      "Epoch 26/200\n",
      "231/231 [==============================] - 1s 3ms/step - loss: 10.0025 - mse: 10.0025 - val_loss: 12.0850 - val_mse: 12.0850\n",
      "Epoch 27/200\n",
      "231/231 [==============================] - 1s 3ms/step - loss: 9.8180 - mse: 9.8180 - val_loss: 11.7556 - val_mse: 11.7556\n",
      "Epoch 28/200\n",
      "231/231 [==============================] - 1s 3ms/step - loss: 9.6612 - mse: 9.6612 - val_loss: 11.7849 - val_mse: 11.7849\n",
      "Epoch 29/200\n",
      "231/231 [==============================] - 1s 4ms/step - loss: 9.4688 - mse: 9.4688 - val_loss: 11.5978 - val_mse: 11.5978\n",
      "Epoch 30/200\n",
      "231/231 [==============================] - 1s 3ms/step - loss: 9.3704 - mse: 9.3704 - val_loss: 11.5080 - val_mse: 11.5080\n",
      "Epoch 31/200\n",
      "231/231 [==============================] - 1s 3ms/step - loss: 9.2623 - mse: 9.2623 - val_loss: 11.5892 - val_mse: 11.5892\n",
      "Epoch 32/200\n",
      "231/231 [==============================] - 1s 3ms/step - loss: 9.1435 - mse: 9.1435 - val_loss: 11.1552 - val_mse: 11.1552\n",
      "Epoch 33/200\n",
      "231/231 [==============================] - 1s 3ms/step - loss: 8.9820 - mse: 8.9820 - val_loss: 11.2743 - val_mse: 11.2743\n",
      "Epoch 34/200\n",
      "231/231 [==============================] - 1s 3ms/step - loss: 8.9713 - mse: 8.9713 - val_loss: 11.0403 - val_mse: 11.0403\n",
      "Epoch 35/200\n",
      "231/231 [==============================] - 1s 3ms/step - loss: 8.8767 - mse: 8.8767 - val_loss: 10.9582 - val_mse: 10.9582\n",
      "Epoch 36/200\n",
      "231/231 [==============================] - 1s 3ms/step - loss: 8.8161 - mse: 8.8161 - val_loss: 10.9479 - val_mse: 10.9479\n",
      "Epoch 37/200\n",
      "231/231 [==============================] - 1s 3ms/step - loss: 8.7218 - mse: 8.7218 - val_loss: 10.7931 - val_mse: 10.7931\n",
      "Epoch 38/200\n",
      "231/231 [==============================] - 1s 3ms/step - loss: 8.5880 - mse: 8.5880 - val_loss: 11.0085 - val_mse: 11.0085\n",
      "Epoch 39/200\n",
      "231/231 [==============================] - 1s 3ms/step - loss: 8.5578 - mse: 8.5578 - val_loss: 10.7837 - val_mse: 10.7837\n",
      "Epoch 40/200\n",
      "231/231 [==============================] - 1s 3ms/step - loss: 8.4558 - mse: 8.4558 - val_loss: 10.6443 - val_mse: 10.6443\n",
      "Epoch 41/200\n",
      "231/231 [==============================] - 1s 3ms/step - loss: 8.4470 - mse: 8.4470 - val_loss: 10.6826 - val_mse: 10.6826\n",
      "Epoch 42/200\n",
      "231/231 [==============================] - 1s 3ms/step - loss: 8.3402 - mse: 8.3402 - val_loss: 10.6487 - val_mse: 10.6487\n",
      "Epoch 43/200\n",
      "231/231 [==============================] - 1s 3ms/step - loss: 8.2517 - mse: 8.2517 - val_loss: 10.4979 - val_mse: 10.4979\n",
      "Epoch 44/200\n",
      "231/231 [==============================] - 1s 3ms/step - loss: 8.2504 - mse: 8.2504 - val_loss: 10.3979 - val_mse: 10.3979\n",
      "Epoch 45/200\n",
      "231/231 [==============================] - 1s 4ms/step - loss: 8.1892 - mse: 8.1892 - val_loss: 10.3617 - val_mse: 10.3617\n",
      "Epoch 46/200\n",
      "231/231 [==============================] - 1s 3ms/step - loss: 8.1021 - mse: 8.1021 - val_loss: 10.5408 - val_mse: 10.5408\n",
      "Epoch 47/200\n",
      "231/231 [==============================] - 1s 4ms/step - loss: 8.1085 - mse: 8.1085 - val_loss: 10.2821 - val_mse: 10.2821\n",
      "Epoch 48/200\n",
      "231/231 [==============================] - 1s 3ms/step - loss: 8.0558 - mse: 8.0558 - val_loss: 10.5791 - val_mse: 10.5791\n",
      "Epoch 49/200\n",
      "231/231 [==============================] - 1s 3ms/step - loss: 8.0207 - mse: 8.0207 - val_loss: 10.2867 - val_mse: 10.2867\n",
      "Epoch 50/200\n",
      "231/231 [==============================] - 1s 3ms/step - loss: 7.9170 - mse: 7.9170 - val_loss: 10.5847 - val_mse: 10.5847\n",
      "Epoch 51/200\n",
      "231/231 [==============================] - 1s 3ms/step - loss: 7.9222 - mse: 7.9222 - val_loss: 10.2570 - val_mse: 10.2570\n",
      "Epoch 52/200\n",
      "231/231 [==============================] - 1s 3ms/step - loss: 7.8828 - mse: 7.8828 - val_loss: 10.2014 - val_mse: 10.2014\n",
      "Epoch 53/200\n",
      "231/231 [==============================] - 1s 3ms/step - loss: 7.8448 - mse: 7.8448 - val_loss: 10.1763 - val_mse: 10.1763\n",
      "Epoch 54/200\n",
      "231/231 [==============================] - 1s 3ms/step - loss: 7.7849 - mse: 7.7849 - val_loss: 10.1725 - val_mse: 10.1725\n",
      "Epoch 55/200\n",
      "231/231 [==============================] - 1s 3ms/step - loss: 7.7555 - mse: 7.7555 - val_loss: 10.0818 - val_mse: 10.0818\n",
      "Epoch 56/200\n",
      "231/231 [==============================] - 1s 3ms/step - loss: 7.7606 - mse: 7.7606 - val_loss: 10.1475 - val_mse: 10.1475\n",
      "Epoch 57/200\n",
      "231/231 [==============================] - 1s 3ms/step - loss: 7.7484 - mse: 7.7484 - val_loss: 10.0494 - val_mse: 10.0494\n",
      "Epoch 58/200\n",
      "231/231 [==============================] - 1s 3ms/step - loss: 7.6486 - mse: 7.6486 - val_loss: 9.9753 - val_mse: 9.9753\n",
      "Epoch 59/200\n",
      "231/231 [==============================] - 1s 3ms/step - loss: 7.6494 - mse: 7.6494 - val_loss: 9.9264 - val_mse: 9.9264\n",
      "Epoch 60/200\n",
      "231/231 [==============================] - 1s 3ms/step - loss: 7.6461 - mse: 7.6461 - val_loss: 9.8540 - val_mse: 9.8540\n"
     ]
    },
    {
     "name": "stdout",
     "output_type": "stream",
     "text": [
      "Epoch 61/200\n",
      "231/231 [==============================] - 1s 3ms/step - loss: 7.6146 - mse: 7.6146 - val_loss: 9.9574 - val_mse: 9.9574\n",
      "Epoch 62/200\n",
      "231/231 [==============================] - 1s 3ms/step - loss: 7.5578 - mse: 7.5578 - val_loss: 9.9102 - val_mse: 9.9102\n",
      "Epoch 63/200\n",
      "231/231 [==============================] - 1s 3ms/step - loss: 7.5245 - mse: 7.5245 - val_loss: 9.7282 - val_mse: 9.7282\n",
      "Epoch 64/200\n",
      "231/231 [==============================] - 1s 3ms/step - loss: 7.5051 - mse: 7.5051 - val_loss: 9.9767 - val_mse: 9.9767\n",
      "Epoch 65/200\n",
      "231/231 [==============================] - 1s 3ms/step - loss: 7.4440 - mse: 7.4440 - val_loss: 9.7986 - val_mse: 9.7986\n",
      "Epoch 66/200\n",
      "231/231 [==============================] - 1s 3ms/step - loss: 7.4868 - mse: 7.4868 - val_loss: 9.7108 - val_mse: 9.7108\n",
      "Epoch 67/200\n",
      "231/231 [==============================] - 1s 3ms/step - loss: 7.3959 - mse: 7.3959 - val_loss: 9.7499 - val_mse: 9.7499\n",
      "Epoch 68/200\n",
      "231/231 [==============================] - 1s 3ms/step - loss: 7.4425 - mse: 7.4425 - val_loss: 9.7304 - val_mse: 9.7304\n",
      "Epoch 69/200\n",
      "231/231 [==============================] - 1s 3ms/step - loss: 7.4121 - mse: 7.4121 - val_loss: 9.5915 - val_mse: 9.5915\n",
      "Epoch 70/200\n",
      "231/231 [==============================] - 1s 3ms/step - loss: 7.3550 - mse: 7.3550 - val_loss: 9.7185 - val_mse: 9.7185\n",
      "Epoch 71/200\n",
      "231/231 [==============================] - 1s 3ms/step - loss: 7.3082 - mse: 7.3082 - val_loss: 9.6265 - val_mse: 9.6265\n",
      "Epoch 72/200\n",
      "231/231 [==============================] - 1s 3ms/step - loss: 7.2808 - mse: 7.2808 - val_loss: 9.6344 - val_mse: 9.6344\n",
      "Epoch 73/200\n",
      "231/231 [==============================] - 1s 3ms/step - loss: 7.2840 - mse: 7.2840 - val_loss: 9.5883 - val_mse: 9.5883\n",
      "Epoch 74/200\n",
      "231/231 [==============================] - 1s 3ms/step - loss: 7.2860 - mse: 7.2860 - val_loss: 9.7349 - val_mse: 9.7349\n",
      "Epoch 75/200\n",
      "231/231 [==============================] - 1s 3ms/step - loss: 7.2495 - mse: 7.2495 - val_loss: 9.6785 - val_mse: 9.6785\n",
      "Epoch 76/200\n",
      "231/231 [==============================] - 1s 3ms/step - loss: 7.2269 - mse: 7.2269 - val_loss: 9.5795 - val_mse: 9.5795\n",
      "Epoch 77/200\n",
      "231/231 [==============================] - 1s 3ms/step - loss: 7.1846 - mse: 7.1846 - val_loss: 9.5278 - val_mse: 9.5278\n",
      "Epoch 78/200\n",
      "231/231 [==============================] - 1s 3ms/step - loss: 7.1624 - mse: 7.1624 - val_loss: 9.5581 - val_mse: 9.5581\n",
      "Epoch 79/200\n",
      "231/231 [==============================] - 1s 3ms/step - loss: 7.2026 - mse: 7.2026 - val_loss: 9.5408 - val_mse: 9.5408\n",
      "Epoch 80/200\n",
      "231/231 [==============================] - 1s 4ms/step - loss: 7.1705 - mse: 7.1705 - val_loss: 9.5209 - val_mse: 9.5209\n",
      "Epoch 81/200\n",
      "231/231 [==============================] - 1s 3ms/step - loss: 7.1066 - mse: 7.1066 - val_loss: 9.7539 - val_mse: 9.7539\n",
      "Epoch 82/200\n",
      "231/231 [==============================] - 1s 3ms/step - loss: 7.2056 - mse: 7.2056 - val_loss: 9.4640 - val_mse: 9.4640\n",
      "Epoch 83/200\n",
      "231/231 [==============================] - 1s 3ms/step - loss: 7.1225 - mse: 7.1225 - val_loss: 9.5004 - val_mse: 9.5004\n",
      "Epoch 84/200\n",
      "231/231 [==============================] - 1s 3ms/step - loss: 7.1182 - mse: 7.1182 - val_loss: 9.5915 - val_mse: 9.5915\n",
      "Epoch 85/200\n",
      "231/231 [==============================] - 1s 3ms/step - loss: 7.1038 - mse: 7.1038 - val_loss: 9.5910 - val_mse: 9.5910\n",
      "Epoch 86/200\n",
      "231/231 [==============================] - 1s 4ms/step - loss: 7.0395 - mse: 7.0395 - val_loss: 9.5457 - val_mse: 9.5457\n",
      "Epoch 87/200\n",
      "231/231 [==============================] - 1s 3ms/step - loss: 7.0487 - mse: 7.0487 - val_loss: 9.5159 - val_mse: 9.5159\n",
      "Epoch 88/200\n",
      "231/231 [==============================] - 1s 3ms/step - loss: 6.9590 - mse: 6.9590 - val_loss: 9.5274 - val_mse: 9.5274\n",
      "Epoch 89/200\n",
      "231/231 [==============================] - 1s 3ms/step - loss: 6.9990 - mse: 6.9990 - val_loss: 9.4016 - val_mse: 9.4016\n",
      "Epoch 90/200\n",
      "231/231 [==============================] - 1s 4ms/step - loss: 6.9697 - mse: 6.9697 - val_loss: 9.5792 - val_mse: 9.5792\n",
      "Epoch 91/200\n",
      "231/231 [==============================] - 1s 3ms/step - loss: 6.9983 - mse: 6.9983 - val_loss: 9.5991 - val_mse: 9.5991\n",
      "Epoch 92/200\n",
      "231/231 [==============================] - 1s 3ms/step - loss: 6.9576 - mse: 6.9576 - val_loss: 9.3376 - val_mse: 9.3376\n",
      "Epoch 93/200\n",
      "231/231 [==============================] - 1s 3ms/step - loss: 6.9489 - mse: 6.9489 - val_loss: 9.4079 - val_mse: 9.4079\n",
      "Epoch 94/200\n",
      "231/231 [==============================] - 1s 3ms/step - loss: 6.8813 - mse: 6.8813 - val_loss: 9.3289 - val_mse: 9.3289\n",
      "Epoch 95/200\n",
      "231/231 [==============================] - 1s 3ms/step - loss: 6.8898 - mse: 6.8898 - val_loss: 9.4545 - val_mse: 9.4545\n",
      "Epoch 96/200\n",
      "231/231 [==============================] - 1s 4ms/step - loss: 6.8965 - mse: 6.8965 - val_loss: 9.3872 - val_mse: 9.3872\n",
      "Epoch 97/200\n",
      "231/231 [==============================] - 1s 3ms/step - loss: 6.8821 - mse: 6.8821 - val_loss: 9.3350 - val_mse: 9.3350\n",
      "Epoch 98/200\n",
      "231/231 [==============================] - 1s 3ms/step - loss: 6.8922 - mse: 6.8922 - val_loss: 9.2874 - val_mse: 9.2874\n",
      "Epoch 99/200\n",
      "231/231 [==============================] - 1s 3ms/step - loss: 6.8497 - mse: 6.8497 - val_loss: 9.3359 - val_mse: 9.3359\n",
      "Epoch 100/200\n",
      "231/231 [==============================] - 1s 3ms/step - loss: 6.8265 - mse: 6.8265 - val_loss: 9.2233 - val_mse: 9.2233\n",
      "Epoch 101/200\n",
      "231/231 [==============================] - 1s 3ms/step - loss: 6.7828 - mse: 6.7828 - val_loss: 9.3595 - val_mse: 9.3595\n",
      "Epoch 102/200\n",
      "231/231 [==============================] - 1s 3ms/step - loss: 6.8195 - mse: 6.8195 - val_loss: 9.3673 - val_mse: 9.3673\n",
      "Epoch 103/200\n",
      "231/231 [==============================] - 1s 3ms/step - loss: 6.8046 - mse: 6.8046 - val_loss: 9.8968 - val_mse: 9.8968\n",
      "Epoch 104/200\n",
      "231/231 [==============================] - 1s 3ms/step - loss: 6.8450 - mse: 6.8450 - val_loss: 9.5069 - val_mse: 9.5069\n",
      "Epoch 105/200\n",
      "231/231 [==============================] - 1s 3ms/step - loss: 6.7603 - mse: 6.7603 - val_loss: 9.3417 - val_mse: 9.3417\n",
      "Epoch 106/200\n",
      "231/231 [==============================] - 1s 3ms/step - loss: 6.7811 - mse: 6.7811 - val_loss: 9.2938 - val_mse: 9.2938\n",
      "Epoch 107/200\n",
      "231/231 [==============================] - 1s 3ms/step - loss: 6.7279 - mse: 6.7279 - val_loss: 9.2703 - val_mse: 9.2703\n",
      "Epoch 108/200\n",
      "231/231 [==============================] - 1s 3ms/step - loss: 6.7018 - mse: 6.7018 - val_loss: 9.2979 - val_mse: 9.2979\n",
      "Epoch 109/200\n",
      "231/231 [==============================] - 1s 3ms/step - loss: 6.7023 - mse: 6.7023 - val_loss: 9.3093 - val_mse: 9.3093\n",
      "Epoch 110/200\n",
      "231/231 [==============================] - 1s 3ms/step - loss: 6.7418 - mse: 6.7418 - val_loss: 9.3634 - val_mse: 9.3634\n",
      "Epoch 111/200\n",
      "231/231 [==============================] - 1s 4ms/step - loss: 6.7313 - mse: 6.7313 - val_loss: 9.3228 - val_mse: 9.3228\n",
      "Epoch 112/200\n",
      "231/231 [==============================] - 1s 3ms/step - loss: 6.6722 - mse: 6.6722 - val_loss: 9.3041 - val_mse: 9.3041\n",
      "Epoch 113/200\n",
      "231/231 [==============================] - 1s 3ms/step - loss: 6.6730 - mse: 6.6730 - val_loss: 9.2871 - val_mse: 9.2871\n",
      "Epoch 114/200\n",
      "231/231 [==============================] - 1s 3ms/step - loss: 6.6459 - mse: 6.6459 - val_loss: 9.3819 - val_mse: 9.3819\n",
      "Epoch 115/200\n",
      "231/231 [==============================] - 1s 3ms/step - loss: 6.6568 - mse: 6.6568 - val_loss: 9.2497 - val_mse: 9.2497\n",
      "Epoch 116/200\n",
      "231/231 [==============================] - 1s 3ms/step - loss: 6.6190 - mse: 6.6190 - val_loss: 9.3299 - val_mse: 9.3299\n",
      "Epoch 117/200\n",
      "231/231 [==============================] - 1s 3ms/step - loss: 6.6498 - mse: 6.6498 - val_loss: 9.3770 - val_mse: 9.3770\n",
      "Epoch 118/200\n",
      "231/231 [==============================] - 1s 3ms/step - loss: 6.5684 - mse: 6.5684 - val_loss: 9.5130 - val_mse: 9.5130\n",
      "Epoch 119/200\n",
      "231/231 [==============================] - 1s 3ms/step - loss: 6.5781 - mse: 6.5781 - val_loss: 9.3028 - val_mse: 9.3028\n",
      "Epoch 120/200\n",
      "231/231 [==============================] - 1s 3ms/step - loss: 6.6054 - mse: 6.6054 - val_loss: 9.2482 - val_mse: 9.2482\n",
      "Epoch 121/200\n",
      "231/231 [==============================] - 1s 3ms/step - loss: 6.5756 - mse: 6.5756 - val_loss: 9.4537 - val_mse: 9.4537\n"
     ]
    },
    {
     "name": "stdout",
     "output_type": "stream",
     "text": [
      "Epoch 122/200\n",
      "231/231 [==============================] - 1s 3ms/step - loss: 6.5909 - mse: 6.5909 - val_loss: 9.3688 - val_mse: 9.3688\n",
      "Epoch 123/200\n",
      "231/231 [==============================] - 1s 3ms/step - loss: 6.5626 - mse: 6.5626 - val_loss: 9.5267 - val_mse: 9.5267\n",
      "Epoch 124/200\n",
      "231/231 [==============================] - 1s 3ms/step - loss: 6.4988 - mse: 6.4988 - val_loss: 9.3116 - val_mse: 9.3116\n",
      "Epoch 125/200\n",
      "231/231 [==============================] - 1s 3ms/step - loss: 6.5358 - mse: 6.5358 - val_loss: 9.2771 - val_mse: 9.2771\n",
      "Epoch 126/200\n",
      "231/231 [==============================] - 1s 3ms/step - loss: 6.5236 - mse: 6.5236 - val_loss: 9.2653 - val_mse: 9.2653\n",
      "Epoch 127/200\n",
      "231/231 [==============================] - 1s 3ms/step - loss: 6.4746 - mse: 6.4746 - val_loss: 9.2829 - val_mse: 9.2829\n",
      "Epoch 128/200\n",
      "231/231 [==============================] - 1s 3ms/step - loss: 6.5240 - mse: 6.5240 - val_loss: 9.3348 - val_mse: 9.3348\n",
      "Epoch 129/200\n",
      "231/231 [==============================] - 1s 3ms/step - loss: 6.5447 - mse: 6.5447 - val_loss: 9.3250 - val_mse: 9.3250\n",
      "Epoch 130/200\n",
      "231/231 [==============================] - 1s 3ms/step - loss: 6.5232 - mse: 6.5232 - val_loss: 9.4075 - val_mse: 9.4075\n",
      "Epoch 131/200\n",
      "231/231 [==============================] - 1s 3ms/step - loss: 6.4990 - mse: 6.4990 - val_loss: 9.1365 - val_mse: 9.1365\n",
      "Epoch 132/200\n",
      "231/231 [==============================] - 1s 3ms/step - loss: 6.4982 - mse: 6.4982 - val_loss: 9.2182 - val_mse: 9.2182\n",
      "Epoch 133/200\n",
      "231/231 [==============================] - 1s 3ms/step - loss: 6.4724 - mse: 6.4724 - val_loss: 9.3598 - val_mse: 9.3598\n",
      "Epoch 134/200\n",
      "231/231 [==============================] - 1s 3ms/step - loss: 6.4488 - mse: 6.4488 - val_loss: 9.2941 - val_mse: 9.2941\n",
      "Epoch 135/200\n",
      "231/231 [==============================] - 1s 3ms/step - loss: 6.4111 - mse: 6.4111 - val_loss: 9.1403 - val_mse: 9.1403\n",
      "Epoch 136/200\n",
      "231/231 [==============================] - 1s 3ms/step - loss: 6.4499 - mse: 6.4499 - val_loss: 9.2771 - val_mse: 9.2771\n",
      "Epoch 137/200\n",
      "231/231 [==============================] - 1s 3ms/step - loss: 6.3997 - mse: 6.3997 - val_loss: 9.1303 - val_mse: 9.1303\n",
      "Epoch 138/200\n",
      "231/231 [==============================] - 1s 3ms/step - loss: 6.4081 - mse: 6.4081 - val_loss: 9.1931 - val_mse: 9.1931\n",
      "Epoch 139/200\n",
      "231/231 [==============================] - 1s 3ms/step - loss: 6.3572 - mse: 6.3572 - val_loss: 9.4250 - val_mse: 9.4250\n",
      "Epoch 140/200\n",
      "231/231 [==============================] - 1s 3ms/step - loss: 6.3815 - mse: 6.3815 - val_loss: 9.2204 - val_mse: 9.2204\n",
      "Epoch 141/200\n",
      "231/231 [==============================] - 1s 3ms/step - loss: 6.4022 - mse: 6.4022 - val_loss: 9.2528 - val_mse: 9.2528\n",
      "Epoch 142/200\n",
      "231/231 [==============================] - 1s 3ms/step - loss: 6.3951 - mse: 6.3951 - val_loss: 9.1510 - val_mse: 9.1510\n",
      "Epoch 143/200\n",
      "231/231 [==============================] - 1s 3ms/step - loss: 6.4298 - mse: 6.4298 - val_loss: 9.1012 - val_mse: 9.1012\n",
      "Epoch 144/200\n",
      "231/231 [==============================] - 1s 3ms/step - loss: 6.3672 - mse: 6.3672 - val_loss: 9.1504 - val_mse: 9.1504\n",
      "Epoch 145/200\n",
      "231/231 [==============================] - 1s 3ms/step - loss: 6.3614 - mse: 6.3614 - val_loss: 9.3242 - val_mse: 9.3242\n",
      "Epoch 146/200\n",
      "231/231 [==============================] - 1s 3ms/step - loss: 6.3381 - mse: 6.3381 - val_loss: 9.1809 - val_mse: 9.1809\n",
      "Epoch 147/200\n",
      "231/231 [==============================] - 1s 3ms/step - loss: 6.3395 - mse: 6.3395 - val_loss: 9.1916 - val_mse: 9.1916\n",
      "Epoch 148/200\n",
      "231/231 [==============================] - 1s 3ms/step - loss: 6.3219 - mse: 6.3219 - val_loss: 9.1879 - val_mse: 9.1879\n",
      "Epoch 149/200\n",
      "231/231 [==============================] - 1s 3ms/step - loss: 6.2954 - mse: 6.2954 - val_loss: 9.1529 - val_mse: 9.1529\n",
      "Epoch 150/200\n",
      "231/231 [==============================] - 1s 3ms/step - loss: 6.3339 - mse: 6.3339 - val_loss: 9.1265 - val_mse: 9.1265\n",
      "Epoch 151/200\n",
      "231/231 [==============================] - 1s 3ms/step - loss: 6.2913 - mse: 6.2913 - val_loss: 9.2595 - val_mse: 9.2595\n",
      "Epoch 152/200\n",
      "231/231 [==============================] - 1s 3ms/step - loss: 6.3310 - mse: 6.3310 - val_loss: 9.1835 - val_mse: 9.1835\n",
      "Epoch 153/200\n",
      "231/231 [==============================] - 1s 3ms/step - loss: 6.3096 - mse: 6.3096 - val_loss: 9.1089 - val_mse: 9.1089\n",
      "Epoch 154/200\n",
      "231/231 [==============================] - 1s 3ms/step - loss: 6.2760 - mse: 6.2760 - val_loss: 9.2394 - val_mse: 9.2394\n",
      "Epoch 155/200\n",
      "231/231 [==============================] - 1s 3ms/step - loss: 6.3514 - mse: 6.3514 - val_loss: 9.1584 - val_mse: 9.1584\n",
      "Epoch 156/200\n",
      "231/231 [==============================] - 1s 3ms/step - loss: 6.2848 - mse: 6.2848 - val_loss: 9.1427 - val_mse: 9.1427\n",
      "Epoch 157/200\n",
      "231/231 [==============================] - 1s 3ms/step - loss: 6.2694 - mse: 6.2694 - val_loss: 9.1929 - val_mse: 9.1929\n",
      "Epoch 158/200\n",
      "231/231 [==============================] - 1s 3ms/step - loss: 6.4107 - mse: 6.4107 - val_loss: 9.0009 - val_mse: 9.0009\n",
      "Epoch 159/200\n",
      "231/231 [==============================] - 1s 3ms/step - loss: 6.2796 - mse: 6.2796 - val_loss: 9.3355 - val_mse: 9.3355\n",
      "Epoch 160/200\n",
      "231/231 [==============================] - 1s 3ms/step - loss: 6.2433 - mse: 6.2433 - val_loss: 9.0835 - val_mse: 9.0835\n",
      "Epoch 161/200\n",
      "231/231 [==============================] - 1s 3ms/step - loss: 6.2902 - mse: 6.2902 - val_loss: 9.1139 - val_mse: 9.1139\n",
      "Epoch 162/200\n",
      "231/231 [==============================] - 1s 3ms/step - loss: 6.2461 - mse: 6.2461 - val_loss: 9.1082 - val_mse: 9.1082\n",
      "Epoch 163/200\n",
      "231/231 [==============================] - 1s 3ms/step - loss: 6.2281 - mse: 6.2281 - val_loss: 9.0314 - val_mse: 9.0314\n",
      "Epoch 164/200\n",
      "231/231 [==============================] - 1s 3ms/step - loss: 6.2267 - mse: 6.2267 - val_loss: 9.1328 - val_mse: 9.1328\n",
      "Epoch 165/200\n",
      "231/231 [==============================] - 1s 3ms/step - loss: 6.2256 - mse: 6.2256 - val_loss: 9.1367 - val_mse: 9.1367\n",
      "Epoch 166/200\n",
      "231/231 [==============================] - 1s 3ms/step - loss: 6.1965 - mse: 6.1965 - val_loss: 9.2798 - val_mse: 9.2798\n",
      "Epoch 167/200\n",
      "231/231 [==============================] - 1s 3ms/step - loss: 6.3512 - mse: 6.3512 - val_loss: 9.1093 - val_mse: 9.1093\n",
      "Epoch 168/200\n",
      "231/231 [==============================] - 1s 3ms/step - loss: 6.2044 - mse: 6.2044 - val_loss: 9.1782 - val_mse: 9.1782\n",
      "Epoch 169/200\n",
      "231/231 [==============================] - 1s 3ms/step - loss: 6.1641 - mse: 6.1641 - val_loss: 9.1833 - val_mse: 9.1833\n",
      "Epoch 170/200\n",
      "231/231 [==============================] - 1s 3ms/step - loss: 6.2360 - mse: 6.2360 - val_loss: 9.1591 - val_mse: 9.1591\n",
      "Epoch 171/200\n",
      "231/231 [==============================] - 1s 3ms/step - loss: 6.1495 - mse: 6.1495 - val_loss: 9.0871 - val_mse: 9.0871\n",
      "Epoch 172/200\n",
      "231/231 [==============================] - 1s 3ms/step - loss: 6.2069 - mse: 6.2069 - val_loss: 9.1023 - val_mse: 9.1023\n",
      "Epoch 173/200\n",
      "231/231 [==============================] - 1s 3ms/step - loss: 6.1481 - mse: 6.1481 - val_loss: 9.1613 - val_mse: 9.1613\n",
      "Epoch 174/200\n",
      "231/231 [==============================] - 1s 3ms/step - loss: 6.2179 - mse: 6.2179 - val_loss: 9.0262 - val_mse: 9.0262\n",
      "Epoch 175/200\n",
      "231/231 [==============================] - 1s 3ms/step - loss: 6.2466 - mse: 6.2466 - val_loss: 9.0928 - val_mse: 9.0928\n",
      "Epoch 176/200\n",
      "231/231 [==============================] - 1s 3ms/step - loss: 6.1224 - mse: 6.1224 - val_loss: 9.1412 - val_mse: 9.1412\n",
      "Epoch 177/200\n",
      "231/231 [==============================] - 1s 3ms/step - loss: 6.1469 - mse: 6.1469 - val_loss: 9.0584 - val_mse: 9.0584\n",
      "Epoch 178/200\n",
      "231/231 [==============================] - 1s 3ms/step - loss: 6.1714 - mse: 6.1714 - val_loss: 8.9262 - val_mse: 8.9262\n",
      "Epoch 179/200\n",
      "231/231 [==============================] - 1s 3ms/step - loss: 6.0853 - mse: 6.0853 - val_loss: 9.0981 - val_mse: 9.0981\n",
      "Epoch 180/200\n",
      "231/231 [==============================] - 1s 3ms/step - loss: 6.1242 - mse: 6.1242 - val_loss: 9.1961 - val_mse: 9.1961\n",
      "Epoch 181/200\n",
      "231/231 [==============================] - 1s 3ms/step - loss: 6.1228 - mse: 6.1228 - val_loss: 8.9091 - val_mse: 8.9091\n",
      "Epoch 182/200\n",
      "231/231 [==============================] - 1s 3ms/step - loss: 6.1290 - mse: 6.1290 - val_loss: 9.0445 - val_mse: 9.0445\n",
      "Epoch 183/200\n",
      "231/231 [==============================] - 1s 3ms/step - loss: 6.0723 - mse: 6.0723 - val_loss: 8.9480 - val_mse: 8.9480\n",
      "Epoch 184/200\n",
      "231/231 [==============================] - 1s 3ms/step - loss: 6.2101 - mse: 6.2101 - val_loss: 9.0793 - val_mse: 9.0793\n",
      "Epoch 185/200\n",
      "231/231 [==============================] - 1s 3ms/step - loss: 6.0833 - mse: 6.0833 - val_loss: 9.0643 - val_mse: 9.0643\n",
      "Epoch 186/200\n",
      "231/231 [==============================] - 1s 3ms/step - loss: 6.1659 - mse: 6.1659 - val_loss: 9.1273 - val_mse: 9.1273\n",
      "Epoch 187/200\n",
      "231/231 [==============================] - 1s 3ms/step - loss: 6.0301 - mse: 6.0301 - val_loss: 8.9739 - val_mse: 8.9739\n",
      "Epoch 188/200\n",
      "231/231 [==============================] - 1s 3ms/step - loss: 6.0568 - mse: 6.0568 - val_loss: 9.1567 - val_mse: 9.1567\n",
      "Epoch 189/200\n",
      "231/231 [==============================] - 1s 3ms/step - loss: 6.0110 - mse: 6.0110 - val_loss: 8.9838 - val_mse: 8.9838\n",
      "Epoch 190/200\n",
      "231/231 [==============================] - 1s 3ms/step - loss: 6.1083 - mse: 6.1083 - val_loss: 9.1801 - val_mse: 9.1801\n",
      "Epoch 191/200\n",
      "231/231 [==============================] - 1s 3ms/step - loss: 6.0135 - mse: 6.0135 - val_loss: 9.0596 - val_mse: 9.0596\n",
      "Epoch 192/200\n",
      "231/231 [==============================] - 1s 3ms/step - loss: 6.0252 - mse: 6.0252 - val_loss: 9.1833 - val_mse: 9.1833\n",
      "Epoch 193/200\n",
      "231/231 [==============================] - 1s 3ms/step - loss: 5.9753 - mse: 5.9753 - val_loss: 8.8594 - val_mse: 8.8594\n",
      "Epoch 194/200\n",
      "231/231 [==============================] - 1s 3ms/step - loss: 5.9648 - mse: 5.9648 - val_loss: 8.9556 - val_mse: 8.9556\n",
      "Epoch 195/200\n",
      "231/231 [==============================] - 1s 3ms/step - loss: 6.0589 - mse: 6.0589 - val_loss: 9.0431 - val_mse: 9.0431\n",
      "Epoch 196/200\n",
      "231/231 [==============================] - 1s 3ms/step - loss: 5.9393 - mse: 5.9393 - val_loss: 9.0421 - val_mse: 9.0421\n",
      "Epoch 197/200\n",
      "231/231 [==============================] - 1s 3ms/step - loss: 6.0157 - mse: 6.0157 - val_loss: 9.1214 - val_mse: 9.1214\n",
      "Epoch 198/200\n",
      "231/231 [==============================] - 1s 3ms/step - loss: 6.0173 - mse: 6.0173 - val_loss: 8.9677 - val_mse: 8.9677\n",
      "Epoch 199/200\n",
      "231/231 [==============================] - 1s 3ms/step - loss: 6.0225 - mse: 6.0225 - val_loss: 9.1251 - val_mse: 9.1251\n",
      "Epoch 200/200\n",
      "231/231 [==============================] - 1s 3ms/step - loss: 5.9431 - mse: 5.9431 - val_loss: 8.8701 - val_mse: 8.8701\n"
     ]
    }
   ],
   "source": [
    "history = model.fit(x_train, y_train, epochs=200, validation_data=(x_test, y_test))"
   ]
  },
  {
   "cell_type": "code",
   "execution_count": 66,
   "id": "e7ec53df",
   "metadata": {},
   "outputs": [],
   "source": [
    "def get_history(metric, title, ylabel):\n",
    "    \"\"\" This function is used to plot the history (loss and metrics) with respect to epochs\"\"\"\n",
    "    \n",
    "    plt.plot(history.history[metric])   # to plot metrics for training data\n",
    "    plt.plot(history.history['val_' + metric])   # to plot metrics for validataion data\n",
    "    plt.title(title)\n",
    "    plt.ylabel(ylabel)\n",
    "    plt.xlabel('epochs')\n",
    "    plt.legend(['train', 'validation'], loc='upper left')\n",
    "    plt.show()"
   ]
  },
  {
   "cell_type": "code",
   "execution_count": 67,
   "id": "39b36247",
   "metadata": {},
   "outputs": [
    {
     "data": {
      "image/png": "[encoded data removed]",
      "text/plain": [
       "<Figure size 576x396 with 1 Axes>"
      ]
     },
     "metadata": {},
     "output_type": "display_data"
    }
   ],
   "source": [
    "get_history('mse', 'Model Loss', 'Mean Squared Error')"
   ]
  },
  {
   "cell_type": "code",
   "execution_count": 70,
   "id": "8954912a",
   "metadata": {},
   "outputs": [
    {
     "data": {
      "text/plain": [
       "(8.870107591072449, 5.8275565148250505)"
      ]
     },
     "execution_count": 70,
     "metadata": {},
     "output_type": "execute_result"
    }
   ],
   "source": [
    "find_mse(model, x_train, y_train, x_test, y_test)"
   ]
  },
  {
   "cell_type": "code",
   "execution_count": 74,
   "id": "2ccbf490",
   "metadata": {},
   "outputs": [],
   "source": [
    "result['test_mse'].append(8.870107591072449)\n",
    "result[\"train_mse\"].append(5.8275565148250505)"
   ]
  },
  {
   "cell_type": "code",
   "execution_count": 83,
   "id": "a0160e18",
   "metadata": {},
   "outputs": [],
   "source": [
    "model_name.append('NN_ss')"
   ]
  },
  {
   "cell_type": "markdown",
   "id": "92b77ca4",
   "metadata": {},
   "source": [
    "It seems that the error in the neural network predictions are more than the random forest. "
   ]
  },
  {
   "cell_type": "markdown",
   "id": "8206df7b",
   "metadata": {},
   "source": [
    "### 5.4 Random Forest with robust scaler and order month deleted"
   ]
  },
  {
   "cell_type": "code",
   "execution_count": 63,
   "id": "fdcdb8d1",
   "metadata": {},
   "outputs": [
    {
     "name": "stdout",
     "output_type": "stream",
     "text": [
      "(9222, 9) (9222,)\n"
     ]
    }
   ],
   "source": [
    "drop_columns = ['Store address', 'Customer address', 'cust_lat', 'cust_long', 'store_lat',\n",
    "                'store_long', 'Order-Date', 'Delivery-Date', 'Promised-Date', 'order_month']\n",
    "x, y = make_x_y(orig_df, drop_columns)\n",
    "print(x.shape, y.shape)"
   ]
  },
  {
   "cell_type": "code",
   "execution_count": 64,
   "id": "4ec09764",
   "metadata": {},
   "outputs": [],
   "source": [
    "x_train, x_test, y_train, y_test = train_test(x, y)"
   ]
  },
  {
   "cell_type": "code",
   "execution_count": 65,
   "id": "38f79e76",
   "metadata": {},
   "outputs": [],
   "source": [
    "# Random forest with robust scaler\n",
    "ohe_cols = ['Weather', 'Courier', 'cust_cluster', 'store_cluster']\n",
    "scaler = RobustScaler()\n",
    "scaler_cols = ['Size of the box height', 'Size of the box width',\n",
    "               'Size of the box length', 'Size of the box weight', 'distance']\n",
    "model = RandomForestRegressor(n_jobs=-1)\n",
    "pipeline = create_pipeline(scaler, scaler_cols, ohe_cols, model)\n",
    "param_dict = {\"model__n_estimators\":[10, 50, 100, 200, 500, 1000], \"model__max_depth\": [16, 64, None]}\n",
    "rf_cv = create_gridsearchcv(pipeline, param_dict, cv = 5, scoring = 'neg_root_mean_squared_error')"
   ]
  },
  {
   "cell_type": "code",
   "execution_count": 66,
   "id": "d2a7e22d",
   "metadata": {
    "scrolled": true
   },
   "outputs": [
    {
     "data": {
      "text/plain": [
       "GridSearchCV(cv=5,\n",
       "             estimator=Pipeline(steps=[('column_trans',\n",
       "                                        ColumnTransformer(remainder='passthrough',\n",
       "                                                          transformers=[('onehotencoder',\n",
       "                                                                         OneHotEncoder(drop='first'),\n",
       "                                                                         ['Weather',\n",
       "                                                                          'Courier',\n",
       "                                                                          'cust_cluster',\n",
       "                                                                          'store_cluster']),\n",
       "                                                                        ('robustscaler',\n",
       "                                                                         RobustScaler(),\n",
       "                                                                         ['Size '\n",
       "                                                                          'of '\n",
       "                                                                          'the '\n",
       "                                                                          'box '\n",
       "                                                                          'height',\n",
       "                                                                          'Size '\n",
       "                                                                          'of '\n",
       "                                                                          'the '\n",
       "                                                                          'box '\n",
       "                                                                          'width',\n",
       "                                                                          'Size '\n",
       "                                                                          'of '\n",
       "                                                                          'the '\n",
       "                                                                          'box '\n",
       "                                                                          'length',\n",
       "                                                                          'Size '\n",
       "                                                                          'of '\n",
       "                                                                          'the '\n",
       "                                                                          'box '\n",
       "                                                                          'weight',\n",
       "                                                                          'distance'])])),\n",
       "                                       ('model',\n",
       "                                        RandomForestRegressor(n_jobs=-1))]),\n",
       "             param_grid={'model__max_depth': [16, 64, None],\n",
       "                         'model__n_estimators': [10, 50, 100, 200, 500, 1000]},\n",
       "             scoring='neg_root_mean_squared_error')"
      ]
     },
     "execution_count": 66,
     "metadata": {},
     "output_type": "execute_result"
    }
   ],
   "source": [
    "rf_cv.fit(x_train, y_train)"
   ]
  },
  {
   "cell_type": "code",
   "execution_count": 67,
   "id": "80b7a4c7",
   "metadata": {
    "scrolled": true
   },
   "outputs": [
    {
     "name": "stdout",
     "output_type": "stream",
     "text": [
      "BEST PARAMETERS: {'model__max_depth': 16, 'model__n_estimators': 1000}\n",
      "{'model__max_depth': 16, 'model__n_estimators': 10} mean_test_score: -1.8065484374438874 std_test_score: 0.1175975663604042\n",
      "{'model__max_depth': 16, 'model__n_estimators': 50} mean_test_score: -1.7424104497171087 std_test_score: 0.09710264087936799\n",
      "{'model__max_depth': 16, 'model__n_estimators': 100} mean_test_score: -1.7298382922532507 std_test_score: 0.09359954072313477\n",
      "{'model__max_depth': 16, 'model__n_estimators': 200} mean_test_score: -1.7300847808340165 std_test_score: 0.09418846283225793\n",
      "{'model__max_depth': 16, 'model__n_estimators': 500} mean_test_score: -1.726135039187022 std_test_score: 0.09570036995692083\n",
      "{'model__max_depth': 16, 'model__n_estimators': 1000} mean_test_score: -1.7195750664055924 std_test_score: 0.10273953548249826\n",
      "{'model__max_depth': 64, 'model__n_estimators': 10} mean_test_score: -1.786819057993684 std_test_score: 0.07807484641051989\n",
      "{'model__max_depth': 64, 'model__n_estimators': 50} mean_test_score: -1.7570372929945346 std_test_score: 0.09877012743449805\n",
      "{'model__max_depth': 64, 'model__n_estimators': 100} mean_test_score: -1.751463478256674 std_test_score: 0.0929401117918668\n",
      "{'model__max_depth': 64, 'model__n_estimators': 200} mean_test_score: -1.7438777689841778 std_test_score: 0.09884444486021417\n",
      "{'model__max_depth': 64, 'model__n_estimators': 500} mean_test_score: -1.732123368668289 std_test_score: 0.09362560881261889\n",
      "{'model__max_depth': 64, 'model__n_estimators': 1000} mean_test_score: -1.7291898173051237 std_test_score: 0.09880265569514855\n",
      "{'model__max_depth': None, 'model__n_estimators': 10} mean_test_score: -1.824229938117958 std_test_score: 0.08425581406095453\n",
      "{'model__max_depth': None, 'model__n_estimators': 50} mean_test_score: -1.7400723738505863 std_test_score: 0.10422304870300862\n",
      "{'model__max_depth': None, 'model__n_estimators': 100} mean_test_score: -1.7394056997604328 std_test_score: 0.09700775957129937\n",
      "{'model__max_depth': None, 'model__n_estimators': 200} mean_test_score: -1.744105135902726 std_test_score: 0.09704343807046638\n",
      "{'model__max_depth': None, 'model__n_estimators': 500} mean_test_score: -1.7274766600188052 std_test_score: 0.0980246308252111\n",
      "{'model__max_depth': None, 'model__n_estimators': 1000} mean_test_score: -1.7301738737780679 std_test_score: 0.09720336896206415\n"
     ]
    }
   ],
   "source": [
    "print_cv_result(rf_cv)"
   ]
  },
  {
   "cell_type": "code",
   "execution_count": 69,
   "id": "f0536a7b",
   "metadata": {},
   "outputs": [
    {
     "data": {
      "text/plain": [
       "(2.6395044686070315, 0.5201847655532031)"
      ]
     },
     "execution_count": 69,
     "metadata": {},
     "output_type": "execute_result"
    }
   ],
   "source": [
    "find_mse(rf_cv, x_train, y_train, x_test, y_test)"
   ]
  },
  {
   "cell_type": "code",
   "execution_count": 75,
   "id": "3f82b302",
   "metadata": {},
   "outputs": [],
   "source": [
    "result['test_mse'].append(2.6395044686070315,)\n",
    "result[\"train_mse\"].append(0.5201847655532031)"
   ]
  },
  {
   "cell_type": "code",
   "execution_count": 85,
   "id": "d3ec5bf7",
   "metadata": {},
   "outputs": [],
   "source": [
    "model_name.append('Random_forest_wo_order_month')"
   ]
  },
  {
   "cell_type": "markdown",
   "id": "b9371967",
   "metadata": {},
   "source": [
    "The error decreases by removing the order_month feature."
   ]
  },
  {
   "cell_type": "markdown",
   "id": "2ec5cfb5",
   "metadata": {},
   "source": [
    "### 5.5 Outlier removed"
   ]
  },
  {
   "cell_type": "code",
   "execution_count": 111,
   "id": "660b1c6a",
   "metadata": {},
   "outputs": [],
   "source": [
    "def remove_outlier(data, column):\n",
    "    \"\"\"This function is used to remove the outlier\"\"\"\n",
    "    q3 = data[column].quantile(0.75)# third quartile\n",
    "    q1 = data[column].quantile(0.25)# first quartile\n",
    "    IQR = q3 - q1\n",
    "    lower_outlier = data[column] < (q3 + 1.5*IQR)\n",
    "    upper_outlier = data[column] > (q1 - 1.5*IQR)\n",
    "    df_trim = data[(lower_outlier) & (upper_outlier)] #after removing the outlierts\n",
    "    \n",
    "    return df_trim"
   ]
  },
  {
   "cell_type": "code",
   "execution_count": 112,
   "id": "c3aac878",
   "metadata": {},
   "outputs": [],
   "source": [
    "df_trim = remove_outlier(orig_df, 'Size of the box weight')\n",
    "df_trim = remove_outlier(df_trim, 'Size of the box height')\n",
    "df_trim = remove_outlier(df_trim, 'Size of the box width')\n",
    "df_trim = remove_outlier(df_trim, 'Size of the box length')"
   ]
  },
  {
   "cell_type": "code",
   "execution_count": 113,
   "id": "8df024d3",
   "metadata": {
    "scrolled": true
   },
   "outputs": [
    {
     "data": {
      "text/plain": [
       "(8578, 20)"
      ]
     },
     "execution_count": 113,
     "metadata": {},
     "output_type": "execute_result"
    }
   ],
   "source": [
    "df_trim.shape"
   ]
  },
  {
   "cell_type": "code",
   "execution_count": 73,
   "id": "27853765",
   "metadata": {},
   "outputs": [
    {
     "name": "stdout",
     "output_type": "stream",
     "text": [
      "(8578, 9) (8578,)\n"
     ]
    }
   ],
   "source": [
    "drop_columns = ['Store address', 'Customer address', 'cust_lat', 'cust_long', 'store_lat',\n",
    "                'store_long', 'Order-Date', 'Delivery-Date', 'Promised-Date', 'order_month']\n",
    "x, y = make_x_y(df_trim, drop_columns)\n",
    "print(x.shape, y.shape)"
   ]
  },
  {
   "cell_type": "code",
   "execution_count": 74,
   "id": "f0828a91",
   "metadata": {},
   "outputs": [],
   "source": [
    "x_train, x_test, y_train, y_test = train_test(x, y)"
   ]
  },
  {
   "cell_type": "code",
   "execution_count": 75,
   "id": "d641a578",
   "metadata": {},
   "outputs": [],
   "source": [
    "# Random forest with robust scaler\n",
    "ohe_cols = ['Weather', 'Courier', 'cust_cluster', 'store_cluster']\n",
    "scaler = RobustScaler()\n",
    "scaler_cols = ['Size of the box height', 'Size of the box width',\n",
    "               'Size of the box length', 'Size of the box weight', 'distance']\n",
    "model = RandomForestRegressor(n_jobs=-1)\n",
    "pipeline = create_pipeline(scaler, scaler_cols, ohe_cols, model)\n",
    "param_dict = {\"model__n_estimators\":[10, 50, 100, 200, 500, 1000], \"model__max_depth\": [16, 64, None]}\n",
    "rf_cv_trim = create_gridsearchcv(pipeline, param_dict, cv = 5, scoring = 'neg_root_mean_squared_error')"
   ]
  },
  {
   "cell_type": "code",
   "execution_count": 76,
   "id": "5f5763b9",
   "metadata": {
    "scrolled": true
   },
   "outputs": [
    {
     "data": {
      "text/plain": [
       "GridSearchCV(cv=5,\n",
       "             estimator=Pipeline(steps=[('column_trans',\n",
       "                                        ColumnTransformer(remainder='passthrough',\n",
       "                                                          transformers=[('onehotencoder',\n",
       "                                                                         OneHotEncoder(drop='first'),\n",
       "                                                                         ['Weather',\n",
       "                                                                          'Courier',\n",
       "                                                                          'cust_cluster',\n",
       "                                                                          'store_cluster']),\n",
       "                                                                        ('robustscaler',\n",
       "                                                                         RobustScaler(),\n",
       "                                                                         ['Size '\n",
       "                                                                          'of '\n",
       "                                                                          'the '\n",
       "                                                                          'box '\n",
       "                                                                          'height',\n",
       "                                                                          'Size '\n",
       "                                                                          'of '\n",
       "                                                                          'the '\n",
       "                                                                          'box '\n",
       "                                                                          'width',\n",
       "                                                                          'Size '\n",
       "                                                                          'of '\n",
       "                                                                          'the '\n",
       "                                                                          'box '\n",
       "                                                                          'length',\n",
       "                                                                          'Size '\n",
       "                                                                          'of '\n",
       "                                                                          'the '\n",
       "                                                                          'box '\n",
       "                                                                          'weight',\n",
       "                                                                          'distance'])])),\n",
       "                                       ('model',\n",
       "                                        RandomForestRegressor(n_jobs=-1))]),\n",
       "             param_grid={'model__max_depth': [16, 64, None],\n",
       "                         'model__n_estimators': [10, 50, 100, 200, 500, 1000]},\n",
       "             scoring='neg_root_mean_squared_error')"
      ]
     },
     "execution_count": 76,
     "metadata": {},
     "output_type": "execute_result"
    }
   ],
   "source": [
    "rf_cv_trim.fit(x_train, y_train)"
   ]
  },
  {
   "cell_type": "code",
   "execution_count": 77,
   "id": "66158717",
   "metadata": {
    "scrolled": true
   },
   "outputs": [
    {
     "name": "stdout",
     "output_type": "stream",
     "text": [
      "BEST PARAMETERS: {'model__max_depth': 16, 'model__n_estimators': 1000}\n",
      "{'model__max_depth': 16, 'model__n_estimators': 10} mean_test_score: -1.8822293211463872 std_test_score: 0.06213374449793633\n",
      "{'model__max_depth': 16, 'model__n_estimators': 50} mean_test_score: -1.820032883950874 std_test_score: 0.06012963780645756\n",
      "{'model__max_depth': 16, 'model__n_estimators': 100} mean_test_score: -1.815234191297775 std_test_score: 0.06769716514070982\n",
      "{'model__max_depth': 16, 'model__n_estimators': 200} mean_test_score: -1.7996865449178188 std_test_score: 0.058350283527350444\n",
      "{'model__max_depth': 16, 'model__n_estimators': 500} mean_test_score: -1.8021205488553398 std_test_score: 0.05838285794664832\n",
      "{'model__max_depth': 16, 'model__n_estimators': 1000} mean_test_score: -1.7982614283144767 std_test_score: 0.06312246781227311\n",
      "{'model__max_depth': 64, 'model__n_estimators': 10} mean_test_score: -1.8831028554370206 std_test_score: 0.06073360164989501\n",
      "{'model__max_depth': 64, 'model__n_estimators': 50} mean_test_score: -1.823989321902441 std_test_score: 0.06337107225546758\n",
      "{'model__max_depth': 64, 'model__n_estimators': 100} mean_test_score: -1.8174542424125455 std_test_score: 0.05650254401320626\n",
      "{'model__max_depth': 64, 'model__n_estimators': 200} mean_test_score: -1.807931288234979 std_test_score: 0.05875275455571678\n",
      "{'model__max_depth': 64, 'model__n_estimators': 500} mean_test_score: -1.807370637733515 std_test_score: 0.05184073061879133\n",
      "{'model__max_depth': 64, 'model__n_estimators': 1000} mean_test_score: -1.8052791206605214 std_test_score: 0.05565145955100858\n",
      "{'model__max_depth': None, 'model__n_estimators': 10} mean_test_score: -1.877802192454905 std_test_score: 0.06219187648008035\n",
      "{'model__max_depth': None, 'model__n_estimators': 50} mean_test_score: -1.8283239840418666 std_test_score: 0.056932877065262365\n",
      "{'model__max_depth': None, 'model__n_estimators': 100} mean_test_score: -1.813922194118004 std_test_score: 0.05307719075305971\n",
      "{'model__max_depth': None, 'model__n_estimators': 200} mean_test_score: -1.8139694793281822 std_test_score: 0.06781167771627915\n",
      "{'model__max_depth': None, 'model__n_estimators': 500} mean_test_score: -1.8072529748420447 std_test_score: 0.061990393780859826\n",
      "{'model__max_depth': None, 'model__n_estimators': 1000} mean_test_score: -1.8063645670639232 std_test_score: 0.056393755113639005\n"
     ]
    }
   ],
   "source": [
    "print_cv_result(rf_cv_trim)"
   ]
  },
  {
   "cell_type": "code",
   "execution_count": 78,
   "id": "ac68bd44",
   "metadata": {},
   "outputs": [
    {
     "data": {
      "text/plain": [
       "(2.627959128905869, 0.5092783864601348)"
      ]
     },
     "execution_count": 78,
     "metadata": {},
     "output_type": "execute_result"
    }
   ],
   "source": [
    "find_mse(rf_cv_trim, x_train, y_train, x_test, y_test)"
   ]
  },
  {
   "cell_type": "code",
   "execution_count": 76,
   "id": "3caea0a1",
   "metadata": {},
   "outputs": [],
   "source": [
    "result['test_mse'].append(2.627959128905869,)\n",
    "result[\"train_mse\"].append(0.5092783864601348)"
   ]
  },
  {
   "cell_type": "code",
   "execution_count": 86,
   "id": "4bc309c4",
   "metadata": {},
   "outputs": [],
   "source": [
    "model_name.append('Random_forest_outlier_removed')"
   ]
  },
  {
   "cell_type": "markdown",
   "id": "ad4f2750",
   "metadata": {},
   "source": [
    "By removing the outliers, the accuracy is further increased."
   ]
  },
  {
   "cell_type": "markdown",
   "id": "bfedcfa9",
   "metadata": {},
   "source": [
    "## 5. Feature Selection"
   ]
  },
  {
   "cell_type": "code",
   "execution_count": 148,
   "id": "ff1d6483",
   "metadata": {},
   "outputs": [],
   "source": [
    "# Built an auto feature selection tool\n",
    "\"\"\"\n",
    "\n",
    "\n",
    "@author: Robin\n",
    "\"\"\"\n",
    "import numpy as np\n",
    "import pandas as pd \n",
    "from sklearn.feature_selection import SelectKBest\n",
    "from sklearn.feature_selection import chi2\n",
    "from sklearn.preprocessing import MinMaxScaler\n",
    "from sklearn.feature_selection import RFE\n",
    "from sklearn.linear_model import LogisticRegression\n",
    "from sklearn.feature_selection import SelectFromModel\n",
    "from sklearn.ensemble import RandomForestClassifier\n",
    "from lightgbm import LGBMClassifier\n",
    "\n",
    "def cor_selector(X, y,num_feats):\n",
    "    \n",
    "    cor_list = []\n",
    "    feature_name = X.columns.tolist()\n",
    "    \n",
    "    for i in X.columns.tolist():\n",
    "        cor = np.corrcoef(X[i], y)[0, 1]\n",
    "        cor_list.append(cor)\n",
    "    \n",
    "    cor_list = [0 if np.isnan(i) else i for i in cor_list]\n",
    "    \n",
    "    cor_feature = X.iloc[:,np.argsort(np.abs(cor_list))[-num_feats:]].columns.tolist()\n",
    "    \n",
    "    cor_support = [True if i in cor_feature else False for i in feature_name]\n",
    "    \n",
    "    return cor_support, cor_feature\n",
    "\n",
    "def chi_squared_selector(X, y, num_feats):\n",
    "    \n",
    "    X_norm = MinMaxScaler().fit_transform(X)\n",
    "    chi_selector = SelectKBest(score_func=chi2, k=num_feats)\n",
    "    chi_selector.fit(X_norm,y)\n",
    "    chi_support = chi_selector.get_support()\n",
    "    chi_feature = X.loc[:, chi_support].columns.to_list()\n",
    "    \n",
    "    return chi_support, chi_feature\n",
    "\n",
    "def rfe_selector(X, y, num_feats):\n",
    "    \n",
    "    scaler = MinMaxScaler()\n",
    "    X_norm = scaler.fit_transform(X)\n",
    "    model = LogisticRegression(class_weight= 'balanced',\n",
    "                               solver= 'lbfgs',\n",
    "                               random_state=42,\n",
    "                               n_jobs= -1,\n",
    "                               max_iter= 500)\n",
    "    rfe_sel = RFE(estimator=model,\n",
    "                  n_features_to_select= num_feats,\n",
    "                 step = 10)\n",
    "    rfe_sel.fit(X_norm, y)\n",
    "    rfe_support = rfe_sel.get_support()\n",
    "    rfe_feature = X.loc[:, rfe_support].columns.to_list()\n",
    "    \n",
    "    return rfe_support, rfe_feature\n",
    "\n",
    "def embedded_log_reg_selector(X, y, num_feats):\n",
    "    \n",
    "    scaler = MinMaxScaler()\n",
    "    X_norm = scaler.fit_transform(X)\n",
    "    model = LogisticRegression(penalty='l1', solver= 'saga', max_iter= 500)\n",
    "    emb_sel = SelectFromModel(estimator=model, max_features= num_feats)\n",
    "    emb_sel.fit(X_norm, y)\n",
    "    embedded_lr_support = emb_sel.get_support()\n",
    "    embedded_lr_feature = X.loc[:, embedded_lr_support].columns.to_list()\n",
    "    \n",
    "    return embedded_lr_support, embedded_lr_feature\n",
    "\n",
    "def embedded_rf_selector(X, y, num_feats):\n",
    "    \n",
    "    scaler = MinMaxScaler()\n",
    "    X_norm = scaler.fit_transform(X)\n",
    "    model = RandomForestClassifier(n_estimators=100)\n",
    "    emb_rf_sel = SelectFromModel(estimator=model, max_features= num_feats)\n",
    "    emb_rf_sel.fit(X_norm, y)\n",
    "    embedded_rf_support = emb_rf_sel.get_support()\n",
    "    embedded_rf_feature = X.loc[:, embedded_rf_support].columns.to_list()\n",
    "    \n",
    "    return embedded_rf_support, embedded_rf_feature\n",
    "\n",
    "def embedded_lgbm_selector(X, y, num_feats):\n",
    "    \n",
    "    scaler = MinMaxScaler()\n",
    "    X_norm = scaler.fit_transform(X)\n",
    "    model = LGBMClassifier(n_estimators=500, learning_rate=0.05, num_leaves=32, colsample_bytree=0.2,\n",
    "            reg_alpha=3, reg_lambda=1, min_split_gain=0.01, min_child_weight=40)\n",
    "    emb_lgbm_sel = SelectFromModel(estimator=model, max_features= num_feats)\n",
    "    emb_lgbm_sel.fit(X_norm, y)\n",
    "    embedded_lgbm_support = emb_lgbm_sel.get_support()\n",
    "    embedded_lgbm_feature = X.loc[:, embedded_lgbm_support].columns.to_list()\n",
    "    \n",
    "    return embedded_lgbm_support, embedded_lgbm_feature\n",
    "\n",
    "def preprocess_dataset(dataset_path):\n",
    "    \n",
    "    df = pd.read_csv(dataset_path)\n",
    "    numcols = ['Size of the box height', 'Size of the box width', 'Size of the box length', 'Size of the box weight', 'shipping_days', 'distance']\n",
    "    catcols = ['Courier', 'Weather', 'cust_cluster', 'store_cluster']\n",
    "    df = df[numcols+catcols]\n",
    "    traindf = pd.concat([df[numcols], pd.get_dummies(df[catcols], drop_first = True)],axis=1)\n",
    "    features = traindf.columns\n",
    "    traindf = traindf.dropna()\n",
    "    traindf = pd.DataFrame(traindf,columns=features)\n",
    "    y_col = 'shipping_days'\n",
    "    x_col = [col for col in traindf.columns if col != y_col]\n",
    "    y = traindf[y_col]\n",
    "    x = traindf.loc[:, x_col]\n",
    "\n",
    "    return x, y\n",
    "\n",
    "def autoFeatureSelector(dataset_path, num_feats, methods=[]):\n",
    "    # Parameters\n",
    "    # data - dataset to be analyzed (csv file)\n",
    "    # methods - various feature selection methods we outlined before, use them all here (list)\n",
    "    \n",
    "    # preprocessing\n",
    "    X, y = preprocess_dataset(dataset_path)\n",
    "    feature_name = X.columns.to_list()\n",
    "    #print(feature_name)\n",
    "    \n",
    "    # Run every method we outlined above from the methods list and collect returned best features from every method\n",
    "    if 'pearson' in methods:\n",
    "        cor_support, cor_feature = cor_selector(X, y,num_feats)\n",
    "    if 'chi-square' in methods:\n",
    "        chi_support, chi_feature = chi_squared_selector(X, y,num_feats)\n",
    "    if 'rfe' in methods:\n",
    "        rfe_support, rfe_feature = rfe_selector(X, y,num_feats)\n",
    "    if 'log-reg' in methods:\n",
    "        embedded_lr_support, embedded_lr_feature = embedded_log_reg_selector(X, y, num_feats)\n",
    "    if 'rf' in methods:\n",
    "        embedded_rf_support, embedded_rf_feature = embedded_rf_selector(X, y, num_feats)\n",
    "    if 'lgbm' in methods:\n",
    "        embedded_lgbm_support, embedded_lgbm_feature = embedded_lgbm_selector(X, y, num_feats)\n",
    "    \n",
    "    \n",
    "    # Combine all the above feature list and count the maximum set of features that got selected by all methods\n",
    "    \n",
    "    feature_selection_df = pd.DataFrame({'Feature':feature_name, 'Pearson':cor_support, 'Chi-2':chi_support, 'RFE':rfe_support, 'Logistics':embedded_lr_support,\n",
    "                                    'Random Forest':embedded_rf_support, 'LightGBM':embedded_lgbm_support})\n",
    "    # count the selected times for each feature\n",
    "    feature_selection_df['Total'] = np.sum(feature_selection_df, axis=1)\n",
    "    \n",
    "    feature_selection_df = feature_selection_df.sort_values(['Total','Feature'] , ascending=False)\n",
    "    feature_selection_df.index = range(1, len(feature_selection_df)+1)\n",
    "    best_features = feature_selection_df['Feature'].tolist()[:num_feats]\n",
    "    \n",
    "    return best_features"
   ]
  },
  {
   "cell_type": "code",
   "execution_count": 79,
   "id": "8d54aa23",
   "metadata": {},
   "outputs": [
    {
     "name": "stderr",
     "output_type": "stream",
     "text": [
      "D:\\Anaconda\\lib\\site-packages\\numpy\\core\\fromnumeric.py:85: FutureWarning: Dropping of nuisance columns in DataFrame reductions (with 'numeric_only=None') is deprecated; in a future version this will raise TypeError.  Select only valid columns before calling the reduction.\n",
      "  return reduction(axis=axis, out=out, **passkwargs)\n"
     ]
    }
   ],
   "source": [
    "best_features = autoFeatureSelector('new.csv', methods=['pearson', 'chi-square', 'rfe', 'log-reg', 'rf', 'lgbm'], num_feats = 9)"
   ]
  },
  {
   "cell_type": "code",
   "execution_count": 80,
   "id": "3a8d071d",
   "metadata": {
    "scrolled": true
   },
   "outputs": [
    {
     "data": {
      "text/plain": [
       "['distance',\n",
       " 'Size of the box weight',\n",
       " 'store_cluster',\n",
       " 'cust_cluster',\n",
       " 'Weather_Good',\n",
       " 'Size of the box width',\n",
       " 'Size of the box length',\n",
       " 'Size of the box height',\n",
       " 'Courier_PS']"
      ]
     },
     "execution_count": 80,
     "metadata": {},
     "output_type": "execute_result"
    }
   ],
   "source": [
    "best_features# top features"
   ]
  },
  {
   "cell_type": "code",
   "execution_count": 114,
   "id": "2aac4d00",
   "metadata": {},
   "outputs": [],
   "source": [
    "y_col = 'shipping_days'\n",
    "x_col = ['distance','Size of the box weight','store_cluster','cust_cluster','Weather', 'Size of the box width', 'Courier']\n",
    "y = df_trim[y_col]\n",
    "x = df_trim.loc[:, x_col]"
   ]
  },
  {
   "cell_type": "code",
   "execution_count": 115,
   "id": "446c5d1f",
   "metadata": {},
   "outputs": [
    {
     "name": "stdout",
     "output_type": "stream",
     "text": [
      "(8578, 7) (8578,)\n"
     ]
    }
   ],
   "source": [
    "print(x.shape, y.shape)"
   ]
  },
  {
   "cell_type": "code",
   "execution_count": 116,
   "id": "23fb678f",
   "metadata": {},
   "outputs": [],
   "source": [
    "x_train, x_test, y_train, y_test = train_test(x, y)"
   ]
  },
  {
   "cell_type": "code",
   "execution_count": 120,
   "id": "dd4abe52",
   "metadata": {},
   "outputs": [],
   "source": [
    "# Random forest with robust scaler\n",
    "ohe_cols = ['Weather', 'Courier', 'cust_cluster', 'store_cluster']\n",
    "scaler = RobustScaler()\n",
    "scaler_cols = ['Size of the box width', 'Size of the box weight', 'distance']\n",
    "model = RandomForestRegressor(n_jobs=-1)\n",
    "pipeline = create_pipeline(scaler, scaler_cols, ohe_cols, model)\n",
    "param_dict = {\"model__n_estimators\":[10, 50, 100, 200, 500, 1000], \"model__max_depth\": [16, 64, None]}\n",
    "rf_cv_trim_best = create_gridsearchcv(pipeline, param_dict, cv = 5, scoring = 'neg_root_mean_squared_error')"
   ]
  },
  {
   "cell_type": "code",
   "execution_count": 121,
   "id": "ecd036c3",
   "metadata": {
    "scrolled": true
   },
   "outputs": [
    {
     "data": {
      "text/plain": [
       "GridSearchCV(cv=5,\n",
       "             estimator=Pipeline(steps=[('column_trans',\n",
       "                                        ColumnTransformer(remainder='passthrough',\n",
       "                                                          transformers=[('onehotencoder',\n",
       "                                                                         OneHotEncoder(drop='first'),\n",
       "                                                                         ['Weather',\n",
       "                                                                          'Courier',\n",
       "                                                                          'cust_cluster',\n",
       "                                                                          'store_cluster']),\n",
       "                                                                        ('robustscaler',\n",
       "                                                                         RobustScaler(),\n",
       "                                                                         ['Size '\n",
       "                                                                          'of '\n",
       "                                                                          'the '\n",
       "                                                                          'box '\n",
       "                                                                          'width',\n",
       "                                                                          'Size '\n",
       "                                                                          'of '\n",
       "                                                                          'the '\n",
       "                                                                          'box '\n",
       "                                                                          'weight',\n",
       "                                                                          'distance'])])),\n",
       "                                       ('model',\n",
       "                                        RandomForestRegressor(n_jobs=-1))]),\n",
       "             param_grid={'model__max_depth': [16, 64, None],\n",
       "                         'model__n_estimators': [10, 50, 100, 200, 500, 1000]},\n",
       "             scoring='neg_root_mean_squared_error')"
      ]
     },
     "execution_count": 121,
     "metadata": {},
     "output_type": "execute_result"
    }
   ],
   "source": [
    "rf_cv_trim_best.fit(x_train, y_train)"
   ]
  },
  {
   "cell_type": "code",
   "execution_count": 124,
   "id": "0429475d",
   "metadata": {
    "scrolled": true
   },
   "outputs": [
    {
     "name": "stdout",
     "output_type": "stream",
     "text": [
      "BEST PARAMETERS: {'model__max_depth': 16, 'model__n_estimators': 200}\n",
      "{'model__max_depth': 16, 'model__n_estimators': 10} mean_test_score: -1.8621273598724273 std_test_score: 0.0419773602904905\n",
      "{'model__max_depth': 16, 'model__n_estimators': 50} mean_test_score: -1.8363499816400897 std_test_score: 0.06774694456817673\n",
      "{'model__max_depth': 16, 'model__n_estimators': 100} mean_test_score: -1.8051552853512873 std_test_score: 0.05056591921080959\n",
      "{'model__max_depth': 16, 'model__n_estimators': 200} mean_test_score: -1.7964674587930252 std_test_score: 0.05592885855558104\n",
      "{'model__max_depth': 16, 'model__n_estimators': 500} mean_test_score: -1.8002344239452612 std_test_score: 0.06837268398211982\n",
      "{'model__max_depth': 16, 'model__n_estimators': 1000} mean_test_score: -1.7986179890720329 std_test_score: 0.059696800038048954\n",
      "{'model__max_depth': 64, 'model__n_estimators': 10} mean_test_score: -1.9020243466564928 std_test_score: 0.040387591377580426\n",
      "{'model__max_depth': 64, 'model__n_estimators': 50} mean_test_score: -1.837238465206736 std_test_score: 0.07011363164783048\n",
      "{'model__max_depth': 64, 'model__n_estimators': 100} mean_test_score: -1.8157463267565794 std_test_score: 0.05178041733608661\n",
      "{'model__max_depth': 64, 'model__n_estimators': 200} mean_test_score: -1.802996832361865 std_test_score: 0.05868937496254839\n",
      "{'model__max_depth': 64, 'model__n_estimators': 500} mean_test_score: -1.8045548221054872 std_test_score: 0.061475806110241574\n",
      "{'model__max_depth': 64, 'model__n_estimators': 1000} mean_test_score: -1.8025572005070623 std_test_score: 0.05886262935342084\n",
      "{'model__max_depth': None, 'model__n_estimators': 10} mean_test_score: -1.9359533549039813 std_test_score: 0.07121379239662258\n",
      "{'model__max_depth': None, 'model__n_estimators': 50} mean_test_score: -1.8207773777550826 std_test_score: 0.06208152874563536\n",
      "{'model__max_depth': None, 'model__n_estimators': 100} mean_test_score: -1.8180888162303792 std_test_score: 0.061154784899810154\n",
      "{'model__max_depth': None, 'model__n_estimators': 200} mean_test_score: -1.802777605587929 std_test_score: 0.05719101115421702\n",
      "{'model__max_depth': None, 'model__n_estimators': 500} mean_test_score: -1.8056059065292094 std_test_score: 0.06203392038395275\n",
      "{'model__max_depth': None, 'model__n_estimators': 1000} mean_test_score: -1.8024763299941562 std_test_score: 0.06060179969777992\n"
     ]
    }
   ],
   "source": [
    "print_cv_result(rf_cv_trim_best)"
   ]
  },
  {
   "cell_type": "code",
   "execution_count": 125,
   "id": "4d408ad8",
   "metadata": {},
   "outputs": [
    {
     "data": {
      "text/plain": [
       "(2.6450688896411285, 0.5135475667965765)"
      ]
     },
     "execution_count": 125,
     "metadata": {},
     "output_type": "execute_result"
    }
   ],
   "source": [
    "find_mse(rf_cv_trim_best, x_train, y_train, x_test, y_test)"
   ]
  },
  {
   "cell_type": "code",
   "execution_count": 77,
   "id": "d7d1d153",
   "metadata": {},
   "outputs": [],
   "source": [
    "result['test_mse'].append(2.6450688896411285,)\n",
    "result[\"train_mse\"].append(0.5135475667965765)"
   ]
  },
  {
   "cell_type": "code",
   "execution_count": 87,
   "id": "acaf8306",
   "metadata": {},
   "outputs": [],
   "source": [
    "model_name.append('Random_forest_selected_festure')"
   ]
  },
  {
   "cell_type": "markdown",
   "id": "2038b042",
   "metadata": {},
   "source": [
    "The test and training error both improved by using the feature selection."
   ]
  },
  {
   "cell_type": "code",
   "execution_count": 129,
   "id": "5ca2b658",
   "metadata": {},
   "outputs": [],
   "source": [
    "pickle.dump(rf_cv_trim_best, open('rf_cv_trim_best.pkl', 'wb'))#save trained model"
   ]
  },
  {
   "cell_type": "markdown",
   "id": "dc3d030c",
   "metadata": {},
   "source": [
    "## 7. Result"
   ]
  },
  {
   "cell_type": "code",
   "execution_count": 88,
   "id": "ba4316cf",
   "metadata": {},
   "outputs": [
    {
     "data": {
      "text/html": [
       "<div>\n",
       "<style scoped>\n",
       "    .dataframe tbody tr th:only-of-type {\n",
       "        vertical-align: middle;\n",
       "    }\n",
       "\n",
       "    .dataframe tbody tr th {\n",
       "        vertical-align: top;\n",
       "    }\n",
       "\n",
       "    .dataframe thead th {\n",
       "        text-align: right;\n",
       "    }\n",
       "</style>\n",
       "<table border=\"1\" class=\"dataframe\">\n",
       "  <thead>\n",
       "    <tr style=\"text-align: right;\">\n",
       "      <th></th>\n",
       "      <th>train_mse</th>\n",
       "      <th>test_mse</th>\n",
       "    </tr>\n",
       "  </thead>\n",
       "  <tbody>\n",
       "    <tr>\n",
       "      <th>Ridge_rs</th>\n",
       "      <td>29.732013</td>\n",
       "      <td>29.808314</td>\n",
       "    </tr>\n",
       "    <tr>\n",
       "      <th>Random_forest_rs</th>\n",
       "      <td>0.571313</td>\n",
       "      <td>3.124542</td>\n",
       "    </tr>\n",
       "    <tr>\n",
       "      <th>NN_ss</th>\n",
       "      <td>5.827557</td>\n",
       "      <td>8.870108</td>\n",
       "    </tr>\n",
       "    <tr>\n",
       "      <th>Random_forest_wo_order_month</th>\n",
       "      <td>0.520185</td>\n",
       "      <td>2.639504</td>\n",
       "    </tr>\n",
       "    <tr>\n",
       "      <th>Random_forest_outlier_removed</th>\n",
       "      <td>0.509278</td>\n",
       "      <td>2.627959</td>\n",
       "    </tr>\n",
       "    <tr>\n",
       "      <th>Random_forest_selected_festure</th>\n",
       "      <td>0.513548</td>\n",
       "      <td>2.645069</td>\n",
       "    </tr>\n",
       "  </tbody>\n",
       "</table>\n",
       "</div>"
      ],
      "text/plain": [
       "                                train_mse   test_mse\n",
       "Ridge_rs                        29.732013  29.808314\n",
       "Random_forest_rs                 0.571313   3.124542\n",
       "NN_ss                            5.827557   8.870108\n",
       "Random_forest_wo_order_month     0.520185   2.639504\n",
       "Random_forest_outlier_removed    0.509278   2.627959\n",
       "Random_forest_selected_festure   0.513548   2.645069"
      ]
     },
     "execution_count": 88,
     "metadata": {},
     "output_type": "execute_result"
    }
   ],
   "source": [
    "pd.DataFrame(result, index=model_name)"
   ]
  },
  {
   "cell_type": "markdown",
   "id": "ee6f3c80",
   "metadata": {},
   "source": [
    "## 8. Prediction"
   ]
  },
  {
   "cell_type": "code",
   "execution_count": 106,
   "id": "3308e255",
   "metadata": {},
   "outputs": [],
   "source": [
    "def test_data_preprocess(df):\n",
    "    \"\"\"This function preprocesses the test data.\"\"\"\n",
    "    df['Store address'] = df['Store address'].apply(lat_long_format) # apply lat_long function to 'Store address' pandas series\n",
    "    df['Customer address'] = df['Customer address'].apply(lat_long_format)\n",
    "    \n",
    "    for i in range(df.shape[0]):\n",
    "        \"\"\"Looping through the each row of the dataframe\"\"\"\n",
    "        coordinate1 = df.loc[i,'Store address']\n",
    "        coordinate2 = df.loc[i, 'Customer address']\n",
    "        df.loc[i,'distance'] = distance(coordinate1, coordinate2)\n",
    "        \n",
    "    df['cust_lat'] = extract_lat_long(df, 'Customer address', 'latitude') # customer latitude\n",
    "    df['cust_long'] = extract_lat_long(df, 'Customer address', 'longitude') # customer longitude\n",
    "    df['store_lat'] = extract_lat_long(df, 'Store address', 'latitude') # Store latitude\n",
    "    df['store_long'] = extract_lat_long(df, 'Store address', 'longitude') # Store longitude\n",
    "    \n",
    "    df['cust_cluster'] = kmeans_cust.predict(df[['cust_lat', 'cust_long']])\n",
    "    df['store_cluster'] = kmeans_store.predict(df[['store_lat', 'store_long']])\n",
    "    \n",
    "    \n",
    "    return df"
   ]
  },
  {
   "cell_type": "code",
   "execution_count": 146,
   "id": "ae7148da",
   "metadata": {},
   "outputs": [],
   "source": [
    "def prediction(model, in_cols, path):\n",
    "    \n",
    "    df_test = pd.read_csv(path)\n",
    "    df_test = test_data_preprocess(df_test)\n",
    "    x_test = df_test.loc[:, in_cols]\n",
    "    pred = model.predict(x_test)\n",
    "    pred_dic = {'shipping_days': pred}\n",
    "    pd.DataFrame(pred_dic).to_csv('robin_manchanda.csv', index=False)\n",
    "    \n",
    "    return pred"
   ]
  },
  {
   "cell_type": "code",
   "execution_count": 147,
   "id": "29f2999a",
   "metadata": {},
   "outputs": [],
   "source": [
    "in_cols = ['distance','Size of the box weight','store_cluster','cust_cluster','Weather', 'Size of the box width', 'Courier']\n",
    "pred = prediction(rf_cv_trim_best, in_cols, 'data_test.csv')"
   ]
  },
  {
   "cell_type": "markdown",
   "id": "5667d761",
   "metadata": {},
   "source": [
    "# How do you justify your proposed model?"
   ]
  },
  {
   "cell_type": "markdown",
   "id": "7bdc83fa",
   "metadata": {},
   "source": [
    "Two different models i.e. artificial neural network and random forest have been used, but random forest outperforms the neural network in terms of mean squared error. Also, the random forest produces good predictions that can be understood easily. Other algorithms, such as Poisson regression was used but the mean squared error was very high as compared to the random forest."
   ]
  },
  {
   "cell_type": "markdown",
   "id": "1119b932",
   "metadata": {},
   "source": [
    "## 9. App Deployed:\n",
    "https://bb-delivery-estimate.herokuapp.com/"
   ]
  },
  {
   "cell_type": "code",
   "execution_count": null,
   "id": "e48cc122",
   "metadata": {},
   "outputs": [],
   "source": []
  }
 ],
 "metadata": {
  "kernelspec": {
   "display_name": "adv_maths",
   "language": "python",
   "name": "adv_maths"
  },
  "language_info": {
   "codemirror_mode": {
    "name": "ipython",
    "version": 3
   },
   "file_extension": ".py",
   "mimetype": "text/x-python",
   "name": "python",
   "nbconvert_exporter": "python",
   "pygments_lexer": "ipython3",
   "version": "3.9.7"
  }
 },
 "nbformat": 4,
 "nbformat_minor": 5
}
